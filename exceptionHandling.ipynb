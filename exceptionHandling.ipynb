{
 "cells": [
  {
   "cell_type": "code",
   "execution_count": 2,
   "id": "c80a1e2c",
   "metadata": {},
   "outputs": [
    {
     "name": "stdout",
     "output_type": "stream",
     "text": [
      "33\n"
     ]
    }
   ],
   "source": [
    "a = 10\n",
    "b = 23\n",
    "c = a+b\n",
    "print(c)"
   ]
  },
  {
   "cell_type": "code",
   "execution_count": 5,
   "id": "dc67ef56",
   "metadata": {},
   "outputs": [
    {
     "name": "stdout",
     "output_type": "stream",
     "text": [
      "10madhu\n"
     ]
    }
   ],
   "source": [
    "a = 10\n",
    "b = \"madhu\"\n",
    "c = str(a)+b\n",
    "print(c)"
   ]
  },
  {
   "cell_type": "code",
   "execution_count": 7,
   "id": "82a6929d",
   "metadata": {},
   "outputs": [
    {
     "name": "stdout",
     "output_type": "stream",
     "text": [
      "Enter first no.23\n",
      "Enter second no.0\n"
     ]
    },
    {
     "ename": "ZeroDivisionError",
     "evalue": "division by zero",
     "output_type": "error",
     "traceback": [
      "\u001b[0;31m---------------------------------------------------------------------------\u001b[0m",
      "\u001b[0;31mZeroDivisionError\u001b[0m                         Traceback (most recent call last)",
      "Input \u001b[0;32mIn [7]\u001b[0m, in \u001b[0;36m<cell line: 3>\u001b[0;34m()\u001b[0m\n\u001b[1;32m      1\u001b[0m a \u001b[38;5;241m=\u001b[39m \u001b[38;5;28mint\u001b[39m(\u001b[38;5;28minput\u001b[39m(\u001b[38;5;124m\"\u001b[39m\u001b[38;5;124mEnter first no.\u001b[39m\u001b[38;5;124m\"\u001b[39m))\n\u001b[1;32m      2\u001b[0m b \u001b[38;5;241m=\u001b[39m \u001b[38;5;28mint\u001b[39m(\u001b[38;5;28minput\u001b[39m(\u001b[38;5;124m\"\u001b[39m\u001b[38;5;124mEnter second no.\u001b[39m\u001b[38;5;124m\"\u001b[39m))\n\u001b[0;32m----> 3\u001b[0m c \u001b[38;5;241m=\u001b[39m \u001b[43ma\u001b[49m\u001b[38;5;241;43m/\u001b[39;49m\u001b[43mb\u001b[49m\n\u001b[1;32m      4\u001b[0m \u001b[38;5;28mprint\u001b[39m(c)\n\u001b[1;32m      5\u001b[0m d \u001b[38;5;241m=\u001b[39m a\u001b[38;5;241m*\u001b[39mb\n",
      "\u001b[0;31mZeroDivisionError\u001b[0m: division by zero"
     ]
    }
   ],
   "source": [
    "a = int(input(\"Enter first no.\"))\n",
    "b = int(input(\"Enter second no.\"))\n",
    "c = a/b\n",
    "print(c)\n",
    "d = a*b\n",
    "print(d)"
   ]
  },
  {
   "cell_type": "code",
   "execution_count": 12,
   "id": "22db0e19",
   "metadata": {},
   "outputs": [
    {
     "name": "stdout",
     "output_type": "stream",
     "text": [
      "Enter first no.45\n",
      "Enter second no.0\n",
      "denominator shouldn't be 0\n",
      "Madhu\n"
     ]
    }
   ],
   "source": [
    "a = int(input(\"Enter first no.\"))\n",
    "b = int(input(\"Enter second no.\"))\n",
    "try:\n",
    "    c = a/b\n",
    "    print(c)\n",
    "except:\n",
    "    print(\"denominator shouldn't be 0\")\n",
    "    print(\"Madhu\")"
   ]
  },
  {
   "cell_type": "code",
   "execution_count": 11,
   "id": "26d1e575",
   "metadata": {},
   "outputs": [
    {
     "ename": "SyntaxError",
     "evalue": "invalid syntax (4136068967.py, line 6)",
     "output_type": "error",
     "traceback": [
      "\u001b[0;36m  Input \u001b[0;32mIn [11]\u001b[0;36m\u001b[0m\n\u001b[0;31m    except:\u001b[0m\n\u001b[0m    ^\u001b[0m\n\u001b[0;31mSyntaxError\u001b[0m\u001b[0;31m:\u001b[0m invalid syntax\n"
     ]
    }
   ],
   "source": [
    "a = int(input(\"Enter first no.\"))\n",
    "b = int(input(\"Enter second no.\"))\n",
    "try:\n",
    "    c = a/b\n",
    "    print(c\n",
    "except:\n",
    "    print(\"syntax Error\")\n",
    "    print(\"madhu\")"
   ]
  },
  {
   "cell_type": "code",
   "execution_count": 15,
   "id": "efa4f287",
   "metadata": {},
   "outputs": [
    {
     "name": "stdout",
     "output_type": "stream",
     "text": [
      "Enter first no.a\n"
     ]
    },
    {
     "ename": "ValueError",
     "evalue": "invalid literal for int() with base 10: 'a'",
     "output_type": "error",
     "traceback": [
      "\u001b[0;31m---------------------------------------------------------------------------\u001b[0m",
      "\u001b[0;31mValueError\u001b[0m                                Traceback (most recent call last)",
      "Input \u001b[0;32mIn [15]\u001b[0m, in \u001b[0;36m<cell line: 1>\u001b[0;34m()\u001b[0m\n\u001b[0;32m----> 1\u001b[0m a \u001b[38;5;241m=\u001b[39m \u001b[38;5;28;43mint\u001b[39;49m\u001b[43m(\u001b[49m\u001b[38;5;28;43minput\u001b[39;49m\u001b[43m(\u001b[49m\u001b[38;5;124;43m\"\u001b[39;49m\u001b[38;5;124;43mEnter first no.\u001b[39;49m\u001b[38;5;124;43m\"\u001b[39;49m\u001b[43m)\u001b[49m\u001b[43m)\u001b[49m\n\u001b[1;32m      2\u001b[0m b \u001b[38;5;241m=\u001b[39m \u001b[38;5;28mint\u001b[39m(\u001b[38;5;28minput\u001b[39m(\u001b[38;5;124m\"\u001b[39m\u001b[38;5;124mEnter second no.\u001b[39m\u001b[38;5;124m\"\u001b[39m))\n\u001b[1;32m      3\u001b[0m \u001b[38;5;28;01mtry\u001b[39;00m:\n",
      "\u001b[0;31mValueError\u001b[0m: invalid literal for int() with base 10: 'a'"
     ]
    }
   ],
   "source": [
    "a = int(input(\"Enter first no.\"))\n",
    "b = int(input(\"Enter second no.\"))\n",
    "try:\n",
    "    c = a/b\n",
    "    print(c)\n",
    "except ZeroDivisionError:\n",
    "    print(\"denominator shouldn't be 0\")\n",
    "    print(\"Madhu\")"
   ]
  },
  {
   "cell_type": "markdown",
   "id": "d255b809",
   "metadata": {},
   "source": [
    "Write a program to ask user to input 2 integers and calculate and print their division. Make sure your program behaves as follows\n",
    "\n",
    "1. If the user enters non integer value ask him to enter only integers\n",
    "2. If denominator is 0, ask him to put non-zero denominator\n",
    "Repeat the process until correct input is given Only if the inputs are correct then display their division and terminate the code."
   ]
  },
  {
   "cell_type": "code",
   "execution_count": 19,
   "id": "7916ff2f",
   "metadata": {},
   "outputs": [
    {
     "name": "stdout",
     "output_type": "stream",
     "text": [
      "Enter First Number 34\n",
      "Enter Second Number fdfghd\n",
      "Only integer values should be entered\n"
     ]
    }
   ],
   "source": [
    "try:\n",
    "    a=int(input(\"Enter First Number \"))\n",
    "    b=int(input(\"Enter Second Number \"))\n",
    "    c=a/b\n",
    "    print(c)\n",
    "except ZeroDivisionError:\n",
    "    print(\"Denomintor should not be 0\")\n",
    "except ValueError:\n",
    "    print(\"Only integer values should be entered\")"
   ]
  },
  {
   "cell_type": "code",
   "execution_count": 27,
   "id": "b98020e0",
   "metadata": {},
   "outputs": [
    {
     "name": "stdout",
     "output_type": "stream",
     "text": [
      "Enter First Number 46574\n",
      "Enter Second Number 3563\n",
      "50137\n"
     ]
    }
   ],
   "source": [
    "\n",
    "try:\n",
    "    a=int(input(\"Enter First Number \"))\n",
    "    b=int(input(\"Enter Second Number \"))\n",
    "    c = a+b\n",
    "    print(c)\n",
    "except ValueError:\n",
    "    print(\"Only integer values should be entered\")\n",
    "    \n",
    "\n"
   ]
  },
  {
   "cell_type": "code",
   "execution_count": 28,
   "id": "ad2324fb",
   "metadata": {},
   "outputs": [
    {
     "name": "stdout",
     "output_type": "stream",
     "text": [
      "Enter your namemadhu\n",
      "Enter your namePraneeth\n",
      "Enter your nameHaritha\n",
      "Haritha\n"
     ]
    }
   ],
   "source": [
    "while True:\n",
    "    name  = input(\"Enter your name\")\n",
    "    if name == \"Haritha\":\n",
    "        print(name)\n",
    "        break"
   ]
  },
  {
   "cell_type": "code",
   "execution_count": 29,
   "id": "f0ac6e91",
   "metadata": {},
   "outputs": [
    {
     "name": "stdout",
     "output_type": "stream",
     "text": [
      "Enter First Number 56\n",
      "Enter Second Number a\n",
      "Only integer values should be entered\n",
      "Enter First Number sdfjnv\n",
      "Only integer values should be entered\n",
      "Enter First Number 3465\n",
      "Enter Second Number svasd\n",
      "Only integer values should be entered\n",
      "Enter First Number 3563\n",
      "Enter Second Number 5463\n",
      "0.6522057477576423\n"
     ]
    }
   ],
   "source": [
    "x=True\n",
    "while x==True:\n",
    "    try:\n",
    "        a=int(input(\"Enter First Number \"))\n",
    "        b=int(input(\"Enter Second Number \"))\n",
    "        c=a/b\n",
    "        print(c)\n",
    "        x=False\n",
    "    except ZeroDivisionError:\n",
    "        print(\"Denomintor should not be 0\")\n",
    "    except ValueError:\n",
    "        print(\"Only integer values should be entered\")"
   ]
  },
  {
   "cell_type": "code",
   "execution_count": 2,
   "id": "4e017b08",
   "metadata": {},
   "outputs": [
    {
     "name": "stdout",
     "output_type": "stream",
     "text": [
      "Enter First Number 43563\n",
      "Enter Second Number dfhd\n",
      "Only integer values should be entered\n",
      "Enter First Number 45764\n",
      "Enter Second Number cvbc\n",
      "Only integer values should be entered\n",
      "Enter First Number cvsx\n",
      "Only integer values should be entered\n",
      "Enter First Number sdgvs\n",
      "Only integer values should be entered\n",
      "Enter First Number 43534\n",
      "Enter Second Number 3453\n",
      "12.607587604981175\n"
     ]
    }
   ],
   "source": [
    "while True:\n",
    "    try:\n",
    "        a=int(input(\"Enter First Number \"))\n",
    "        b=int(input(\"Enter Second Number \"))\n",
    "        c=a/b\n",
    "        print(c)\n",
    "        break\n",
    "    except ZeroDivisionError:\n",
    "             print(\"Denomintor should not be 0\")\n",
    "             \n",
    "    except ValueError:\n",
    "            print(\"Only integer values should be entered\")\n",
    "            "
   ]
  },
  {
   "cell_type": "code",
   "execution_count": null,
   "id": "13e7b6e6",
   "metadata": {},
   "outputs": [],
   "source": []
  }
 ],
 "metadata": {
  "kernelspec": {
   "display_name": "Python 3 (ipykernel)",
   "language": "python",
   "name": "python3"
  },
  "language_info": {
   "codemirror_mode": {
    "name": "ipython",
    "version": 3
   },
   "file_extension": ".py",
   "mimetype": "text/x-python",
   "name": "python",
   "nbconvert_exporter": "python",
   "pygments_lexer": "ipython3",
   "version": "3.9.12"
  }
 },
 "nbformat": 4,
 "nbformat_minor": 5
}
