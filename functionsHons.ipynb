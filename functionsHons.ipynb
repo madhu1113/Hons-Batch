{
 "cells": [
  {
   "cell_type": "code",
   "execution_count": 11,
   "id": "8f48bcd7",
   "metadata": {},
   "outputs": [],
   "source": [
    "def test():\n",
    "    a = 4*5\n",
    "    b = 6+4\n",
    "    c = 3+4+5\n",
    "    return a,b,c\n"
   ]
  },
  {
   "cell_type": "code",
   "execution_count": 12,
   "id": "4ffbaaa6",
   "metadata": {},
   "outputs": [],
   "source": [
    "g = test()"
   ]
  },
  {
   "cell_type": "code",
   "execution_count": 13,
   "id": "816de837",
   "metadata": {},
   "outputs": [
    {
     "data": {
      "text/plain": [
       "(20, 10, 12)"
      ]
     },
     "execution_count": 13,
     "metadata": {},
     "output_type": "execute_result"
    }
   ],
   "source": [
    "g"
   ]
  },
  {
   "cell_type": "code",
   "execution_count": 14,
   "id": "c759d6c6",
   "metadata": {},
   "outputs": [
    {
     "ename": "ValueError",
     "evalue": "too many values to unpack (expected 2)",
     "output_type": "error",
     "traceback": [
      "\u001b[0;31m---------------------------------------------------------------------------\u001b[0m",
      "\u001b[0;31mValueError\u001b[0m                                Traceback (most recent call last)",
      "Input \u001b[0;32mIn [14]\u001b[0m, in \u001b[0;36m<cell line: 1>\u001b[0;34m()\u001b[0m\n\u001b[0;32m----> 1\u001b[0m a, b \u001b[38;5;241m=\u001b[39m test()\n",
      "\u001b[0;31mValueError\u001b[0m: too many values to unpack (expected 2)"
     ]
    }
   ],
   "source": [
    "a, b = test()"
   ]
  },
  {
   "cell_type": "code",
   "execution_count": null,
   "id": "02cbc618",
   "metadata": {},
   "outputs": [],
   "source": [
    "a"
   ]
  },
  {
   "cell_type": "code",
   "execution_count": null,
   "id": "0025f045",
   "metadata": {},
   "outputs": [],
   "source": [
    "b"
   ]
  },
  {
   "cell_type": "code",
   "execution_count": 15,
   "id": "0241a3c8",
   "metadata": {},
   "outputs": [],
   "source": [
    "_ , _, b = test()"
   ]
  },
  {
   "cell_type": "code",
   "execution_count": 16,
   "id": "b380c45d",
   "metadata": {},
   "outputs": [
    {
     "data": {
      "text/plain": [
       "12"
      ]
     },
     "execution_count": 16,
     "metadata": {},
     "output_type": "execute_result"
    }
   ],
   "source": [
    "b"
   ]
  },
  {
   "cell_type": "code",
   "execution_count": 17,
   "id": "4a954c77",
   "metadata": {},
   "outputs": [
    {
     "data": {
      "text/plain": [
       "10"
      ]
     },
     "execution_count": 17,
     "metadata": {},
     "output_type": "execute_result"
    }
   ],
   "source": [
    "_"
   ]
  },
  {
   "cell_type": "code",
   "execution_count": 18,
   "id": "49fd9d16",
   "metadata": {},
   "outputs": [
    {
     "name": "stdout",
     "output_type": "stream",
     "text": [
      "1\n",
      "2\n",
      "3\n",
      "4\n",
      "5\n",
      "6\n",
      "7\n",
      "8\n",
      "9\n",
      "10\n"
     ]
    }
   ],
   "source": [
    "a = 1\n",
    "b = 10\n",
    "while a<=10:\n",
    "    print(a)\n",
    "    a +=1"
   ]
  },
  {
   "cell_type": "code",
   "execution_count": 31,
   "id": "6d0d43fd",
   "metadata": {},
   "outputs": [],
   "source": [
    "def add(a,b):\n",
    "    return(a+b)"
   ]
  },
  {
   "cell_type": "code",
   "execution_count": 32,
   "id": "36810d72",
   "metadata": {},
   "outputs": [
    {
     "data": {
      "text/plain": [
       "9"
      ]
     },
     "execution_count": 32,
     "metadata": {},
     "output_type": "execute_result"
    }
   ],
   "source": [
    "add(4,5)"
   ]
  },
  {
   "cell_type": "code",
   "execution_count": 34,
   "id": "f008b0e4",
   "metadata": {},
   "outputs": [
    {
     "data": {
      "text/plain": [
       "15"
      ]
     },
     "execution_count": 34,
     "metadata": {},
     "output_type": "execute_result"
    }
   ],
   "source": [
    "add(7,8)"
   ]
  },
  {
   "cell_type": "code",
   "execution_count": 48,
   "id": "e2940c05",
   "metadata": {},
   "outputs": [],
   "source": [
    "l = [3,4,5,6,7,\"Madhu\"]\n",
    "def test2():\n",
    "    '''append the integer value of list l'''\n",
    "    l1 = []\n",
    "    for i in l:\n",
    "        if type(i) == int:\n",
    "            l1.append(i)\n",
    "    return l1"
   ]
  },
  {
   "cell_type": "code",
   "execution_count": 49,
   "id": "9443ed8b",
   "metadata": {},
   "outputs": [
    {
     "data": {
      "text/plain": [
       "[3, 4, 5, 6, 7]"
      ]
     },
     "execution_count": 49,
     "metadata": {},
     "output_type": "execute_result"
    }
   ],
   "source": [
    "test2()"
   ]
  },
  {
   "cell_type": "code",
   "execution_count": 50,
   "id": "4f72ae12",
   "metadata": {},
   "outputs": [],
   "source": [
    "def add(a,b):\n",
    "    return(a+b)"
   ]
  },
  {
   "cell_type": "code",
   "execution_count": 52,
   "id": "8a5a0b3c",
   "metadata": {},
   "outputs": [
    {
     "data": {
      "text/plain": [
       "'Madhu Priya'"
      ]
     },
     "execution_count": 52,
     "metadata": {},
     "output_type": "execute_result"
    }
   ],
   "source": [
    "add(\"Madhu\",\" Priya\")"
   ]
  },
  {
   "cell_type": "code",
   "execution_count": 53,
   "id": "f0ada96c",
   "metadata": {},
   "outputs": [
    {
     "data": {
      "text/plain": [
       "'MadhuPriya'"
      ]
     },
     "execution_count": 53,
     "metadata": {},
     "output_type": "execute_result"
    }
   ],
   "source": [
    "add(a = \"Madhu\", b = \" Priya\")"
   ]
  },
  {
   "cell_type": "code",
   "execution_count": 54,
   "id": "945d1318",
   "metadata": {},
   "outputs": [
    {
     "ename": "TypeError",
     "evalue": "add() takes 2 positional arguments but 3 were given",
     "output_type": "error",
     "traceback": [
      "\u001b[0;31m---------------------------------------------------------------------------\u001b[0m",
      "\u001b[0;31mTypeError\u001b[0m                                 Traceback (most recent call last)",
      "Input \u001b[0;32mIn [54]\u001b[0m, in \u001b[0;36m<cell line: 1>\u001b[0;34m()\u001b[0m\n\u001b[0;32m----> 1\u001b[0m \u001b[43madd\u001b[49m\u001b[43m(\u001b[49m\u001b[38;5;241;43m2\u001b[39;49m\u001b[43m,\u001b[49m\u001b[38;5;241;43m3\u001b[39;49m\u001b[43m,\u001b[49m\u001b[38;5;241;43m4\u001b[39;49m\u001b[43m)\u001b[49m\n",
      "\u001b[0;31mTypeError\u001b[0m: add() takes 2 positional arguments but 3 were given"
     ]
    }
   ],
   "source": [
    "add(2,3,4)"
   ]
  },
  {
   "cell_type": "code",
   "execution_count": 56,
   "id": "5a4cfbc6",
   "metadata": {},
   "outputs": [],
   "source": [
    "def test3(*a):\n",
    "    return a"
   ]
  },
  {
   "cell_type": "code",
   "execution_count": 57,
   "id": "900b0f30",
   "metadata": {},
   "outputs": [
    {
     "data": {
      "text/plain": [
       "(2, 3, 4, 5, 6)"
      ]
     },
     "execution_count": 57,
     "metadata": {},
     "output_type": "execute_result"
    }
   ],
   "source": [
    "test3(2,3,4,5,6)"
   ]
  },
  {
   "cell_type": "code",
   "execution_count": 61,
   "id": "9bd31fe5",
   "metadata": {},
   "outputs": [],
   "source": [
    "def test3(*a,b,c,d,e):\n",
    "    return a,b,c,d,e"
   ]
  },
  {
   "cell_type": "code",
   "execution_count": 62,
   "id": "86ddc6d1",
   "metadata": {},
   "outputs": [
    {
     "data": {
      "text/plain": [
       "((2, 3, 4), 5, 6, 9, 10)"
      ]
     },
     "execution_count": 62,
     "metadata": {},
     "output_type": "execute_result"
    }
   ],
   "source": [
    "test3(2,3,4,b = 5, c = 6, d = 9, e = 10)"
   ]
  },
  {
   "cell_type": "code",
   "execution_count": 65,
   "id": "312ac15d",
   "metadata": {},
   "outputs": [],
   "source": [
    "def test3(b,c,d,e,*a):\n",
    "    return b,c,d,e,a"
   ]
  },
  {
   "cell_type": "code",
   "execution_count": 66,
   "id": "3a5be9e0",
   "metadata": {},
   "outputs": [
    {
     "data": {
      "text/plain": [
       "(2, 3, 4, 5, (6, 45, 67, 12, 34))"
      ]
     },
     "execution_count": 66,
     "metadata": {},
     "output_type": "execute_result"
    }
   ],
   "source": [
    "test3(2,3,4,5,6,45,67,12,34)"
   ]
  },
  {
   "cell_type": "code",
   "execution_count": 67,
   "id": "31f6ef92",
   "metadata": {},
   "outputs": [
    {
     "ename": "SyntaxError",
     "evalue": "invalid syntax (3700401459.py, line 1)",
     "output_type": "error",
     "traceback": [
      "\u001b[0;36m  Input \u001b[0;32mIn [67]\u001b[0;36m\u001b[0m\n\u001b[0;31m    def test3(*b,c,d,e,*a):\u001b[0m\n\u001b[0m                       ^\u001b[0m\n\u001b[0;31mSyntaxError\u001b[0m\u001b[0;31m:\u001b[0m invalid syntax\n"
     ]
    }
   ],
   "source": [
    "def test3(*b,c,d,e,*a):\n",
    "    return b,c,d,e,a"
   ]
  },
  {
   "cell_type": "code",
   "execution_count": 73,
   "id": "716791ff",
   "metadata": {},
   "outputs": [],
   "source": [
    "def test4(**a):\n",
    "    return a"
   ]
  },
  {
   "cell_type": "code",
   "execution_count": 79,
   "id": "5f425d30",
   "metadata": {},
   "outputs": [
    {
     "data": {
      "text/plain": [
       "{'name': 'shanasree', 'stream': 'CSE'}"
      ]
     },
     "execution_count": 79,
     "metadata": {},
     "output_type": "execute_result"
    }
   ],
   "source": [
    "\n",
    "test4(name = \"shanasree\", stream = \"CSE\")"
   ]
  },
  {
   "cell_type": "code",
   "execution_count": 80,
   "id": "9a3366b1",
   "metadata": {},
   "outputs": [],
   "source": [
    "d = {\"name\":\"dhanasree\", \"class\":\"Hons Sec-1\", \"reg. No.\": \"444\" }"
   ]
  },
  {
   "cell_type": "code",
   "execution_count": 81,
   "id": "0a416e8f",
   "metadata": {},
   "outputs": [
    {
     "ename": "TypeError",
     "evalue": "test4() takes 0 positional arguments but 1 was given",
     "output_type": "error",
     "traceback": [
      "\u001b[0;31m---------------------------------------------------------------------------\u001b[0m",
      "\u001b[0;31mTypeError\u001b[0m                                 Traceback (most recent call last)",
      "Input \u001b[0;32mIn [81]\u001b[0m, in \u001b[0;36m<cell line: 1>\u001b[0;34m()\u001b[0m\n\u001b[0;32m----> 1\u001b[0m \u001b[43mtest4\u001b[49m\u001b[43m(\u001b[49m\u001b[43md\u001b[49m\u001b[43m)\u001b[49m\n",
      "\u001b[0;31mTypeError\u001b[0m: test4() takes 0 positional arguments but 1 was given"
     ]
    }
   ],
   "source": [
    "test4(d)"
   ]
  },
  {
   "cell_type": "code",
   "execution_count": 83,
   "id": "349be26e",
   "metadata": {},
   "outputs": [],
   "source": [
    "def test4(*a, **b ):\n",
    "    return a,b"
   ]
  },
  {
   "cell_type": "code",
   "execution_count": 84,
   "id": "1fb0545b",
   "metadata": {},
   "outputs": [
    {
     "data": {
      "text/plain": [
       "((23, 56, 12, 56, 'Madhu'), {'name': 'shanasree', 'stream': 'CSE'})"
      ]
     },
     "execution_count": 84,
     "metadata": {},
     "output_type": "execute_result"
    }
   ],
   "source": [
    "test4(23,56,12,56,\"Madhu\",name = \"shanasree\", stream = \"CSE\")"
   ]
  },
  {
   "cell_type": "code",
   "execution_count": 85,
   "id": "bee51d56",
   "metadata": {},
   "outputs": [],
   "source": [
    "def add(a,b):\n",
    "    return(a+b)"
   ]
  },
  {
   "cell_type": "code",
   "execution_count": 86,
   "id": "37686020",
   "metadata": {},
   "outputs": [
    {
     "data": {
      "text/plain": [
       "11"
      ]
     },
     "execution_count": 86,
     "metadata": {},
     "output_type": "execute_result"
    }
   ],
   "source": [
    "add(5,6)"
   ]
  },
  {
   "cell_type": "code",
   "execution_count": 87,
   "id": "a4cbe52d",
   "metadata": {},
   "outputs": [],
   "source": [
    "n = lambda a,b : a+b"
   ]
  },
  {
   "cell_type": "code",
   "execution_count": 88,
   "id": "e9a622d9",
   "metadata": {},
   "outputs": [
    {
     "data": {
      "text/plain": [
       "11"
      ]
     },
     "execution_count": 88,
     "metadata": {},
     "output_type": "execute_result"
    }
   ],
   "source": [
    "n(5,6)"
   ]
  },
  {
   "cell_type": "code",
   "execution_count": 89,
   "id": "c559bd30",
   "metadata": {},
   "outputs": [],
   "source": [
    "m = lambda a,b : a*b"
   ]
  },
  {
   "cell_type": "code",
   "execution_count": 90,
   "id": "3375be22",
   "metadata": {},
   "outputs": [
    {
     "data": {
      "text/plain": [
       "30"
      ]
     },
     "execution_count": 90,
     "metadata": {},
     "output_type": "execute_result"
    }
   ],
   "source": [
    "m(5,6)"
   ]
  },
  {
   "cell_type": "code",
   "execution_count": 92,
   "id": "65e3c746",
   "metadata": {},
   "outputs": [],
   "source": [
    "b = lambda *a : a"
   ]
  },
  {
   "cell_type": "code",
   "execution_count": 93,
   "id": "57f675d9",
   "metadata": {},
   "outputs": [
    {
     "data": {
      "text/plain": [
       "(2, 3, 4, 5, 6)"
      ]
     },
     "execution_count": 93,
     "metadata": {},
     "output_type": "execute_result"
    }
   ],
   "source": [
    "b(2,3,4,5,6)"
   ]
  },
  {
   "cell_type": "code",
   "execution_count": 95,
   "id": "59cd0b2b",
   "metadata": {},
   "outputs": [],
   "source": [
    "t = (3,4,5,6,7)\n",
    "l = []\n",
    "for i in t:\n",
    "    l.append(i)"
   ]
  },
  {
   "cell_type": "code",
   "execution_count": 96,
   "id": "3ce2b342",
   "metadata": {},
   "outputs": [
    {
     "data": {
      "text/plain": [
       "[3, 4, 5, 6, 7]"
      ]
     },
     "execution_count": 96,
     "metadata": {},
     "output_type": "execute_result"
    }
   ],
   "source": [
    "l"
   ]
  },
  {
   "cell_type": "code",
   "execution_count": 97,
   "id": "8195bf8d",
   "metadata": {},
   "outputs": [
    {
     "data": {
      "text/plain": [
       "[3, 4, 5, 6, 7]"
      ]
     },
     "execution_count": 97,
     "metadata": {},
     "output_type": "execute_result"
    }
   ],
   "source": [
    "[i for i in t]"
   ]
  },
  {
   "cell_type": "code",
   "execution_count": 98,
   "id": "ddee4143",
   "metadata": {},
   "outputs": [],
   "source": [
    "s = \"dhanasree\""
   ]
  },
  {
   "cell_type": "code",
   "execution_count": 99,
   "id": "3cbae560",
   "metadata": {},
   "outputs": [
    {
     "data": {
      "text/plain": [
       "['d', 'h', 'a', 'n', 'a', 's', 'r', 'e', 'e']"
      ]
     },
     "execution_count": 99,
     "metadata": {},
     "output_type": "execute_result"
    }
   ],
   "source": [
    "[i for i in s]"
   ]
  },
  {
   "cell_type": "code",
   "execution_count": 100,
   "id": "48eb92c0",
   "metadata": {},
   "outputs": [],
   "source": [
    "l = []\n",
    "for i in range(11):\n",
    "    l.append(i*i)"
   ]
  },
  {
   "cell_type": "code",
   "execution_count": 101,
   "id": "1d573953",
   "metadata": {},
   "outputs": [
    {
     "data": {
      "text/plain": [
       "[0, 1, 4, 9, 16, 25, 36, 49, 64, 81, 100]"
      ]
     },
     "execution_count": 101,
     "metadata": {},
     "output_type": "execute_result"
    }
   ],
   "source": [
    "l"
   ]
  },
  {
   "cell_type": "code",
   "execution_count": 102,
   "id": "3a7ba21c",
   "metadata": {},
   "outputs": [
    {
     "data": {
      "text/plain": [
       "[0, 1, 4, 9, 16, 25, 36, 49, 64, 81, 100]"
      ]
     },
     "execution_count": 102,
     "metadata": {},
     "output_type": "execute_result"
    }
   ],
   "source": [
    "[i**2 for i in range(11)]"
   ]
  },
  {
   "cell_type": "code",
   "execution_count": 104,
   "id": "c6f50b76",
   "metadata": {},
   "outputs": [],
   "source": [
    "n = lambda *a : [i**2 for i in a]"
   ]
  },
  {
   "cell_type": "code",
   "execution_count": 105,
   "id": "39e0c4f5",
   "metadata": {},
   "outputs": [
    {
     "data": {
      "text/plain": [
       "[9, 16, 25, 36, 49]"
      ]
     },
     "execution_count": 105,
     "metadata": {},
     "output_type": "execute_result"
    }
   ],
   "source": [
    "n(3,4,5,6,7)"
   ]
  },
  {
   "cell_type": "code",
   "execution_count": 106,
   "id": "a2a33c69",
   "metadata": {},
   "outputs": [
    {
     "ename": "TypeError",
     "evalue": "test3() got an unexpected keyword argument 'a'",
     "output_type": "error",
     "traceback": [
      "\u001b[0;31m---------------------------------------------------------------------------\u001b[0m",
      "\u001b[0;31mTypeError\u001b[0m                                 Traceback (most recent call last)",
      "Input \u001b[0;32mIn [106]\u001b[0m, in \u001b[0;36m<cell line: 1>\u001b[0;34m()\u001b[0m\n\u001b[0;32m----> 1\u001b[0m \u001b[43mtest3\u001b[49m\u001b[43m(\u001b[49m\u001b[43ma\u001b[49m\u001b[43m \u001b[49m\u001b[38;5;241;43m=\u001b[39;49m\u001b[43m \u001b[49m\u001b[38;5;124;43m\"\u001b[39;49m\u001b[38;5;124;43mdhanasree\u001b[39;49m\u001b[38;5;124;43m\"\u001b[39;49m\u001b[43m,\u001b[49m\u001b[43m \u001b[49m\u001b[43mb\u001b[49m\u001b[43m \u001b[49m\u001b[38;5;241;43m=\u001b[39;49m\u001b[43m \u001b[49m\u001b[38;5;241;43m4\u001b[39;49m\u001b[43m,\u001b[49m\u001b[43m \u001b[49m\u001b[43mc\u001b[49m\u001b[43m \u001b[49m\u001b[38;5;241;43m=\u001b[39;49m\u001b[43m \u001b[49m\u001b[38;5;124;43m\"\u001b[39;49m\u001b[38;5;124;43mDhanasree\u001b[39;49m\u001b[38;5;124;43m\"\u001b[39;49m\u001b[43m,\u001b[49m\u001b[43m \u001b[49m\u001b[43me\u001b[49m\u001b[43m \u001b[49m\u001b[38;5;241;43m=\u001b[39;49m\u001b[43m \u001b[49m\u001b[38;5;241;43m10\u001b[39;49m\u001b[43m)\u001b[49m\n",
      "\u001b[0;31mTypeError\u001b[0m: test3() got an unexpected keyword argument 'a'"
     ]
    }
   ],
   "source": [
    "test3(a = \"dhanasree\", b = 4, c = \"Dhanasree\", e = 10)"
   ]
  },
  {
   "cell_type": "code",
   "execution_count": 110,
   "id": "89f0c53f",
   "metadata": {},
   "outputs": [],
   "source": [
    "def test3(**a):\n",
    "    count = 0\n",
    "    print(a.values())\n",
    "    for i in a.values():\n",
    "        if type(i) == str:\n",
    "            count += 1\n",
    "    return count\n",
    "    "
   ]
  },
  {
   "cell_type": "code",
   "execution_count": 111,
   "id": "c1f5a9a6",
   "metadata": {},
   "outputs": [
    {
     "name": "stdout",
     "output_type": "stream",
     "text": [
      "dict_values(['dhanasree', 4, 'Dhanasree', 10])\n"
     ]
    },
    {
     "data": {
      "text/plain": [
       "2"
      ]
     },
     "execution_count": 111,
     "metadata": {},
     "output_type": "execute_result"
    }
   ],
   "source": [
    "test3(a = \"dhanasree\", b = 4, c = \"Dhanasree\", e = 10)"
   ]
  },
  {
   "cell_type": "code",
   "execution_count": 112,
   "id": "ec73a37e",
   "metadata": {},
   "outputs": [],
   "source": [
    "l = lambda **a : [i for i in a.values()]"
   ]
  },
  {
   "cell_type": "code",
   "execution_count": 113,
   "id": "f0616d86",
   "metadata": {},
   "outputs": [
    {
     "data": {
      "text/plain": [
       "['dhanasree', 4, 'Dhanasree', 10]"
      ]
     },
     "execution_count": 113,
     "metadata": {},
     "output_type": "execute_result"
    }
   ],
   "source": [
    "l(a = \"dhanasree\", b = 4, c = \"Dhanasree\", e = 10)"
   ]
  },
  {
   "cell_type": "code",
   "execution_count": null,
   "id": "68f0aec9",
   "metadata": {},
   "outputs": [],
   "source": [
    "Homework\n",
    "1. Try to print prime no. from 1 to 1000\n",
    "2. Try to write functions which is equivalent of print function in Python\n",
    "3. Try to write a  function which is replica of  list append, extend and pop function.\n",
    "4. Try to write a lambda function whiuch can return a concatenation of all the string we will pass.\n",
    "5. Try to write a lambda function which can return list of square of all the data between 1 tp 100.\n",
    "6. Try to write 10 different lambda function of your own choice.\n",
    "7. Try to write a function which can perform read operation from .text file."
   ]
  }
 ],
 "metadata": {
  "kernelspec": {
   "display_name": "Python 3 (ipykernel)",
   "language": "python",
   "name": "python3"
  },
  "language_info": {
   "codemirror_mode": {
    "name": "ipython",
    "version": 3
   },
   "file_extension": ".py",
   "mimetype": "text/x-python",
   "name": "python",
   "nbconvert_exporter": "python",
   "pygments_lexer": "ipython3",
   "version": "3.9.12"
  }
 },
 "nbformat": 4,
 "nbformat_minor": 5
}
