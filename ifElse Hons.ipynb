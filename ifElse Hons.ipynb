{
 "cells": [
  {
   "cell_type": "code",
   "execution_count": 4,
   "id": "a83f98c1",
   "metadata": {},
   "outputs": [
    {
     "name": "stdout",
     "output_type": "stream",
     "text": [
      "100\n"
     ]
    }
   ],
   "source": [
    "a = 100\n",
    "if a == 100:\n",
    "    print(a)\n",
    "if a == 23:\n"
   ]
  },
  {
   "cell_type": "code",
   "execution_count": 8,
   "id": "faa27a74",
   "metadata": {},
   "outputs": [
    {
     "name": "stdout",
     "output_type": "stream",
     "text": [
      "23\n"
     ]
    }
   ],
   "source": [
    "a = 23\n",
    "if a == 23:\n",
    "    print(a)"
   ]
  },
  {
   "cell_type": "code",
   "execution_count": 10,
   "id": "a60507d7",
   "metadata": {},
   "outputs": [
    {
     "name": "stdout",
     "output_type": "stream",
     "text": [
      "24\n"
     ]
    }
   ],
   "source": [
    "a = 24\n",
    "if a == 23:\n",
    "    pass\n",
    "else:\n",
    "    print(a)\n",
    "    "
   ]
  },
  {
   "cell_type": "code",
   "execution_count": 1,
   "id": "088f4bf2",
   "metadata": {},
   "outputs": [
    {
     "name": "stdout",
     "output_type": "stream",
     "text": [
      "Enter a number45645\n"
     ]
    }
   ],
   "source": [
    "a = int(input(\"Enter a number\"))"
   ]
  },
  {
   "cell_type": "code",
   "execution_count": 2,
   "id": "a96b9608",
   "metadata": {},
   "outputs": [
    {
     "data": {
      "text/plain": [
       "int"
      ]
     },
     "execution_count": 2,
     "metadata": {},
     "output_type": "execute_result"
    }
   ],
   "source": [
    "type(a)"
   ]
  },
  {
   "cell_type": "code",
   "execution_count": 16,
   "id": "828d657f",
   "metadata": {},
   "outputs": [
    {
     "name": "stdout",
     "output_type": "stream",
     "text": [
      "Enter the price700\n",
      "we can buy something else\n"
     ]
    }
   ],
   "source": [
    "price = int(input(\"Enter the price\"))\n",
    "if price<500:\n",
    "    print(\"we can buy a Jacket\")\n",
    "elif price == 500:\n",
    "    print(\"we will buy a t-shirt\")\n",
    "\n",
    "else:\n",
    "    print(\"we can buy something else\")"
   ]
  },
  {
   "cell_type": "code",
   "execution_count": null,
   "id": "528837fe",
   "metadata": {},
   "outputs": [],
   "source": [
    "marks = int(input(\"Enter the marks\"))\n",
    "if()"
   ]
  },
  {
   "cell_type": "code",
   "execution_count": 5,
   "id": "66e0f657",
   "metadata": {},
   "outputs": [
    {
     "name": "stdout",
     "output_type": "stream",
     "text": [
      "Enter marks = 450\n",
      "toffle\n"
     ]
    }
   ],
   "source": [
    "m=int(input(\"Enter marks = \"))\n",
    "if(m>600):\n",
    "    print(\"gre\")\n",
    "elif m>=500 and m<=600:\n",
    "    print(\"iels\")\n",
    "elif m>=400 and m<500:\n",
    "    print(\"toffle\")\n",
    "else:\n",
    "    print(\"nothing\")"
   ]
  },
  {
   "cell_type": "code",
   "execution_count": 13,
   "id": "e7720443",
   "metadata": {},
   "outputs": [
    {
     "name": "stdout",
     "output_type": "stream",
     "text": [
      "Enter the marks scored560\n",
      "Toffle\n"
     ]
    }
   ],
   "source": [
    "marks =int(input(\"Enter the marks scored\"))\n",
    "if marks>600:\n",
    "        print(\"GRE\")\n",
    "elif marks>500:\n",
    "     print(\"Toffle\")\n",
    "elif marks>400:\n",
    "    print(\"Ilets\")\n",
    "else:\n",
    "   print(\"Try something else\")"
   ]
  },
  {
   "cell_type": "code",
   "execution_count": 14,
   "id": "151bfc3d",
   "metadata": {},
   "outputs": [],
   "source": [
    "l = [4,5,6,7,80,12,45,56]"
   ]
  },
  {
   "cell_type": "code",
   "execution_count": 15,
   "id": "e980db8c",
   "metadata": {},
   "outputs": [
    {
     "name": "stdout",
     "output_type": "stream",
     "text": [
      "5 is there in list\n"
     ]
    }
   ],
   "source": [
    "if 5 in l:\n",
    "    print(\"5 is there in list\")\n",
    "else:\n",
    "    printf(\"5 is not in list\")"
   ]
  },
  {
   "cell_type": "code",
   "execution_count": null,
   "id": "82b67aba",
   "metadata": {},
   "outputs": [],
   "source": []
  }
 ],
 "metadata": {
  "kernelspec": {
   "display_name": "Python 3 (ipykernel)",
   "language": "python",
   "name": "python3"
  },
  "language_info": {
   "codemirror_mode": {
    "name": "ipython",
    "version": 3
   },
   "file_extension": ".py",
   "mimetype": "text/x-python",
   "name": "python",
   "nbconvert_exporter": "python",
   "pygments_lexer": "ipython3",
   "version": "3.9.12"
  }
 },
 "nbformat": 4,
 "nbformat_minor": 5
}
