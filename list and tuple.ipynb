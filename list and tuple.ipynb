{
 "cells": [
  {
   "cell_type": "code",
   "execution_count": 3,
   "id": "367c6ed6",
   "metadata": {},
   "outputs": [],
   "source": [
    "a = [4,5,6,78,23,12,23,34]"
   ]
  },
  {
   "cell_type": "code",
   "execution_count": 4,
   "id": "38f2bf13",
   "metadata": {},
   "outputs": [
    {
     "data": {
      "text/plain": [
       "list"
      ]
     },
     "execution_count": 4,
     "metadata": {},
     "output_type": "execute_result"
    }
   ],
   "source": [
    "type(a)"
   ]
  },
  {
   "cell_type": "code",
   "execution_count": 5,
   "id": "8c6026d8",
   "metadata": {},
   "outputs": [],
   "source": [
    "a = [\"Karyacharan\", \"Badrinath\",\"Akshaya\",\"Yesashwini\"]"
   ]
  },
  {
   "cell_type": "code",
   "execution_count": 6,
   "id": "0fe42bb9",
   "metadata": {},
   "outputs": [
    {
     "data": {
      "text/plain": [
       "list"
      ]
     },
     "execution_count": 6,
     "metadata": {},
     "output_type": "execute_result"
    }
   ],
   "source": [
    "type(a)"
   ]
  },
  {
   "cell_type": "code",
   "execution_count": 7,
   "id": "5f759c4b",
   "metadata": {},
   "outputs": [],
   "source": [
    "a = [3,4,\"karyacharan\", \"Badrinath\", \"Akshaya\",5.6, True]"
   ]
  },
  {
   "cell_type": "code",
   "execution_count": 8,
   "id": "7ecf9f63",
   "metadata": {},
   "outputs": [
    {
     "data": {
      "text/plain": [
       "list"
      ]
     },
     "execution_count": 8,
     "metadata": {},
     "output_type": "execute_result"
    }
   ],
   "source": [
    "type(a)"
   ]
  },
  {
   "cell_type": "code",
   "execution_count": 9,
   "id": "52b14d35",
   "metadata": {},
   "outputs": [],
   "source": [
    "t = ()"
   ]
  },
  {
   "cell_type": "code",
   "execution_count": 10,
   "id": "34a1c1d8",
   "metadata": {},
   "outputs": [
    {
     "data": {
      "text/plain": [
       "tuple"
      ]
     },
     "execution_count": 10,
     "metadata": {},
     "output_type": "execute_result"
    }
   ],
   "source": [
    "type(t)"
   ]
  },
  {
   "cell_type": "code",
   "execution_count": 11,
   "id": "1dc75960",
   "metadata": {},
   "outputs": [],
   "source": [
    "t = (3,4,\"karyacharan\", \"Badrinath\", \"Akshaya\",5.6, True)"
   ]
  },
  {
   "cell_type": "code",
   "execution_count": 12,
   "id": "2c4cdf56",
   "metadata": {},
   "outputs": [
    {
     "data": {
      "text/plain": [
       "tuple"
      ]
     },
     "execution_count": 12,
     "metadata": {},
     "output_type": "execute_result"
    }
   ],
   "source": [
    "type(t)"
   ]
  },
  {
   "cell_type": "code",
   "execution_count": 13,
   "id": "6818598e",
   "metadata": {},
   "outputs": [],
   "source": [
    "d = {}"
   ]
  },
  {
   "cell_type": "code",
   "execution_count": 14,
   "id": "6fa23b79",
   "metadata": {},
   "outputs": [
    {
     "data": {
      "text/plain": [
       "dict"
      ]
     },
     "execution_count": 14,
     "metadata": {},
     "output_type": "execute_result"
    }
   ],
   "source": [
    "type(d)"
   ]
  },
  {
   "cell_type": "code",
   "execution_count": 15,
   "id": "6650ed23",
   "metadata": {},
   "outputs": [],
   "source": [
    "d = {3,4,\"karyacharan\", \"Badrinath\", \"Akshaya\",5.6, True}"
   ]
  },
  {
   "cell_type": "code",
   "execution_count": 18,
   "id": "2ade078e",
   "metadata": {},
   "outputs": [
    {
     "data": {
      "text/plain": [
       "set"
      ]
     },
     "execution_count": 18,
     "metadata": {},
     "output_type": "execute_result"
    }
   ],
   "source": [
    "type(d)"
   ]
  },
  {
   "cell_type": "code",
   "execution_count": 19,
   "id": "17703fb7",
   "metadata": {},
   "outputs": [],
   "source": [
    "d = {\"name\":\"karyacharan\", \"Class\":\"sec-1\", \"Age\":18}"
   ]
  },
  {
   "cell_type": "code",
   "execution_count": 20,
   "id": "95a2fb11",
   "metadata": {},
   "outputs": [
    {
     "data": {
      "text/plain": [
       "dict"
      ]
     },
     "execution_count": 20,
     "metadata": {},
     "output_type": "execute_result"
    }
   ],
   "source": [
    "type(d)"
   ]
  },
  {
   "cell_type": "code",
   "execution_count": 21,
   "id": "ac044075",
   "metadata": {},
   "outputs": [
    {
     "data": {
      "text/plain": [
       "'karyacharan'"
      ]
     },
     "execution_count": 21,
     "metadata": {},
     "output_type": "execute_result"
    }
   ],
   "source": [
    "d[\"name\"]"
   ]
  },
  {
   "cell_type": "code",
   "execution_count": 22,
   "id": "403d3649",
   "metadata": {},
   "outputs": [],
   "source": [
    "l = [3,4,\"karyacharan\", \"Badrinath\", \"Akshaya\",5.6, True]"
   ]
  },
  {
   "cell_type": "code",
   "execution_count": 23,
   "id": "5259d634",
   "metadata": {},
   "outputs": [
    {
     "data": {
      "text/plain": [
       "'Akshaya'"
      ]
     },
     "execution_count": 23,
     "metadata": {},
     "output_type": "execute_result"
    }
   ],
   "source": [
    "l[4]"
   ]
  },
  {
   "cell_type": "code",
   "execution_count": 24,
   "id": "cb64ef8b",
   "metadata": {},
   "outputs": [
    {
     "data": {
      "text/plain": [
       "True"
      ]
     },
     "execution_count": 24,
     "metadata": {},
     "output_type": "execute_result"
    }
   ],
   "source": [
    "l[-1]"
   ]
  },
  {
   "cell_type": "code",
   "execution_count": 25,
   "id": "c510bdf1",
   "metadata": {},
   "outputs": [
    {
     "data": {
      "text/plain": [
       "'Akshaya'"
      ]
     },
     "execution_count": 25,
     "metadata": {},
     "output_type": "execute_result"
    }
   ],
   "source": [
    "l[-3]"
   ]
  },
  {
   "cell_type": "code",
   "execution_count": 26,
   "id": "17040b8a",
   "metadata": {},
   "outputs": [
    {
     "data": {
      "text/plain": [
       "'karyacharan'"
      ]
     },
     "execution_count": 26,
     "metadata": {},
     "output_type": "execute_result"
    }
   ],
   "source": [
    "l[-5]"
   ]
  },
  {
   "cell_type": "code",
   "execution_count": 27,
   "id": "1300179e",
   "metadata": {},
   "outputs": [
    {
     "ename": "IndexError",
     "evalue": "list index out of range",
     "output_type": "error",
     "traceback": [
      "\u001b[0;31m---------------------------------------------------------------------------\u001b[0m",
      "\u001b[0;31mIndexError\u001b[0m                                Traceback (most recent call last)",
      "Input \u001b[0;32mIn [27]\u001b[0m, in \u001b[0;36m<cell line: 1>\u001b[0;34m()\u001b[0m\n\u001b[0;32m----> 1\u001b[0m \u001b[43ml\u001b[49m\u001b[43m[\u001b[49m\u001b[38;5;241;43m-\u001b[39;49m\u001b[38;5;241;43m9\u001b[39;49m\u001b[43m]\u001b[49m\n",
      "\u001b[0;31mIndexError\u001b[0m: list index out of range"
     ]
    }
   ],
   "source": [
    "l[-9]"
   ]
  },
  {
   "cell_type": "code",
   "execution_count": 28,
   "id": "76fd8fa8",
   "metadata": {},
   "outputs": [
    {
     "data": {
      "text/plain": [
       "[3, 4, 'karyacharan', 'Badrinath', 'Akshaya', 5.6]"
      ]
     },
     "execution_count": 28,
     "metadata": {},
     "output_type": "execute_result"
    }
   ],
   "source": [
    "l[0:6]"
   ]
  },
  {
   "cell_type": "code",
   "execution_count": 29,
   "id": "1e787fe6",
   "metadata": {},
   "outputs": [
    {
     "data": {
      "text/plain": [
       "[3, 'karyacharan', 'Akshaya', True]"
      ]
     },
     "execution_count": 29,
     "metadata": {},
     "output_type": "execute_result"
    }
   ],
   "source": [
    "l[0:7:2]"
   ]
  },
  {
   "cell_type": "code",
   "execution_count": 30,
   "id": "5f914495",
   "metadata": {},
   "outputs": [
    {
     "data": {
      "text/plain": [
       "[]"
      ]
     },
     "execution_count": 30,
     "metadata": {},
     "output_type": "execute_result"
    }
   ],
   "source": [
    "l[0:7:-1]"
   ]
  },
  {
   "cell_type": "code",
   "execution_count": 31,
   "id": "e3925b09",
   "metadata": {},
   "outputs": [
    {
     "data": {
      "text/plain": [
       "[True, 'Akshaya', 'karyacharan', 3]"
      ]
     },
     "execution_count": 31,
     "metadata": {},
     "output_type": "execute_result"
    }
   ],
   "source": [
    "l[-1:-100:-2]"
   ]
  },
  {
   "cell_type": "code",
   "execution_count": 32,
   "id": "ebcfe65a",
   "metadata": {},
   "outputs": [
    {
     "data": {
      "text/plain": [
       "[3, 4, 'karyacharan', 'Badrinath', 'Akshaya', 5.6, True]"
      ]
     },
     "execution_count": 32,
     "metadata": {},
     "output_type": "execute_result"
    }
   ],
   "source": [
    "l"
   ]
  },
  {
   "cell_type": "code",
   "execution_count": 33,
   "id": "de440e7f",
   "metadata": {},
   "outputs": [],
   "source": [
    "l.append(\"Praneeth\")"
   ]
  },
  {
   "cell_type": "code",
   "execution_count": 34,
   "id": "fc266274",
   "metadata": {},
   "outputs": [
    {
     "data": {
      "text/plain": [
       "[3, 4, 'karyacharan', 'Badrinath', 'Akshaya', 5.6, True, 'Praneeth']"
      ]
     },
     "execution_count": 34,
     "metadata": {},
     "output_type": "execute_result"
    }
   ],
   "source": [
    "l"
   ]
  },
  {
   "cell_type": "code",
   "execution_count": 35,
   "id": "9e4c805f",
   "metadata": {},
   "outputs": [
    {
     "data": {
      "text/plain": [
       "1"
      ]
     },
     "execution_count": 35,
     "metadata": {},
     "output_type": "execute_result"
    }
   ],
   "source": [
    "l.count(3)"
   ]
  },
  {
   "cell_type": "code",
   "execution_count": 36,
   "id": "157aa1f6",
   "metadata": {},
   "outputs": [],
   "source": [
    "l.append(3)"
   ]
  },
  {
   "cell_type": "code",
   "execution_count": 37,
   "id": "51185b97",
   "metadata": {},
   "outputs": [
    {
     "data": {
      "text/plain": [
       "[3, 4, 'karyacharan', 'Badrinath', 'Akshaya', 5.6, True, 'Praneeth', 3]"
      ]
     },
     "execution_count": 37,
     "metadata": {},
     "output_type": "execute_result"
    }
   ],
   "source": [
    "l"
   ]
  },
  {
   "cell_type": "code",
   "execution_count": 38,
   "id": "08281752",
   "metadata": {},
   "outputs": [
    {
     "data": {
      "text/plain": [
       "2"
      ]
     },
     "execution_count": 38,
     "metadata": {},
     "output_type": "execute_result"
    }
   ],
   "source": [
    "l.count(3)"
   ]
  },
  {
   "cell_type": "code",
   "execution_count": 39,
   "id": "dab591b0",
   "metadata": {},
   "outputs": [],
   "source": [
    "l.extend(\"Akshita\")"
   ]
  },
  {
   "cell_type": "code",
   "execution_count": 40,
   "id": "e7505564",
   "metadata": {},
   "outputs": [
    {
     "data": {
      "text/plain": [
       "[3,\n",
       " 4,\n",
       " 'karyacharan',\n",
       " 'Badrinath',\n",
       " 'Akshaya',\n",
       " 5.6,\n",
       " True,\n",
       " 'Praneeth',\n",
       " 3,\n",
       " 'A',\n",
       " 'k',\n",
       " 's',\n",
       " 'h',\n",
       " 'i',\n",
       " 't',\n",
       " 'a']"
      ]
     },
     "execution_count": 40,
     "metadata": {},
     "output_type": "execute_result"
    }
   ],
   "source": [
    "l"
   ]
  },
  {
   "cell_type": "code",
   "execution_count": 41,
   "id": "7cbbfe9b",
   "metadata": {},
   "outputs": [],
   "source": [
    "l.extend([5.7,\"Madhu\",6,34])"
   ]
  },
  {
   "cell_type": "code",
   "execution_count": 42,
   "id": "46a38039",
   "metadata": {},
   "outputs": [
    {
     "data": {
      "text/plain": [
       "[3,\n",
       " 4,\n",
       " 'karyacharan',\n",
       " 'Badrinath',\n",
       " 'Akshaya',\n",
       " 5.6,\n",
       " True,\n",
       " 'Praneeth',\n",
       " 3,\n",
       " 'A',\n",
       " 'k',\n",
       " 's',\n",
       " 'h',\n",
       " 'i',\n",
       " 't',\n",
       " 'a',\n",
       " 5.7,\n",
       " 'Madhu',\n",
       " 6,\n",
       " 34]"
      ]
     },
     "execution_count": 42,
     "metadata": {},
     "output_type": "execute_result"
    }
   ],
   "source": [
    "l"
   ]
  },
  {
   "cell_type": "code",
   "execution_count": 43,
   "id": "45ac1a17",
   "metadata": {},
   "outputs": [],
   "source": [
    "l.append([5.7,\"Madhu\",6,34])"
   ]
  },
  {
   "cell_type": "code",
   "execution_count": 44,
   "id": "db8b8473",
   "metadata": {},
   "outputs": [
    {
     "data": {
      "text/plain": [
       "[3,\n",
       " 4,\n",
       " 'karyacharan',\n",
       " 'Badrinath',\n",
       " 'Akshaya',\n",
       " 5.6,\n",
       " True,\n",
       " 'Praneeth',\n",
       " 3,\n",
       " 'A',\n",
       " 'k',\n",
       " 's',\n",
       " 'h',\n",
       " 'i',\n",
       " 't',\n",
       " 'a',\n",
       " 5.7,\n",
       " 'Madhu',\n",
       " 6,\n",
       " 34,\n",
       " [5.7, 'Madhu', 6, 34]]"
      ]
     },
     "execution_count": 44,
     "metadata": {},
     "output_type": "execute_result"
    }
   ],
   "source": [
    "l"
   ]
  },
  {
   "cell_type": "code",
   "execution_count": 45,
   "id": "a090909c",
   "metadata": {},
   "outputs": [
    {
     "data": {
      "text/plain": [
       "[5.7, 'Madhu', 6, 34]"
      ]
     },
     "execution_count": 45,
     "metadata": {},
     "output_type": "execute_result"
    }
   ],
   "source": [
    "l.pop()"
   ]
  },
  {
   "cell_type": "code",
   "execution_count": 46,
   "id": "b488c086",
   "metadata": {},
   "outputs": [
    {
     "data": {
      "text/plain": [
       "[3,\n",
       " 4,\n",
       " 'karyacharan',\n",
       " 'Badrinath',\n",
       " 'Akshaya',\n",
       " 5.6,\n",
       " True,\n",
       " 'Praneeth',\n",
       " 3,\n",
       " 'A',\n",
       " 'k',\n",
       " 's',\n",
       " 'h',\n",
       " 'i',\n",
       " 't',\n",
       " 'a',\n",
       " 5.7,\n",
       " 'Madhu',\n",
       " 6,\n",
       " 34]"
      ]
     },
     "execution_count": 46,
     "metadata": {},
     "output_type": "execute_result"
    }
   ],
   "source": [
    "l"
   ]
  },
  {
   "cell_type": "code",
   "execution_count": 47,
   "id": "8a4205c0",
   "metadata": {},
   "outputs": [
    {
     "data": {
      "text/plain": [
       "True"
      ]
     },
     "execution_count": 47,
     "metadata": {},
     "output_type": "execute_result"
    }
   ],
   "source": [
    "l.pop(6)"
   ]
  },
  {
   "cell_type": "code",
   "execution_count": 48,
   "id": "3030001e",
   "metadata": {},
   "outputs": [
    {
     "data": {
      "text/plain": [
       "[3,\n",
       " 4,\n",
       " 'karyacharan',\n",
       " 'Badrinath',\n",
       " 'Akshaya',\n",
       " 5.6,\n",
       " 'Praneeth',\n",
       " 3,\n",
       " 'A',\n",
       " 'k',\n",
       " 's',\n",
       " 'h',\n",
       " 'i',\n",
       " 't',\n",
       " 'a',\n",
       " 5.7,\n",
       " 'Madhu',\n",
       " 6,\n",
       " 34]"
      ]
     },
     "execution_count": 48,
     "metadata": {},
     "output_type": "execute_result"
    }
   ],
   "source": [
    "l"
   ]
  },
  {
   "cell_type": "code",
   "execution_count": 49,
   "id": "fc57295f",
   "metadata": {},
   "outputs": [],
   "source": [
    "l.remove(\"Madhu\")"
   ]
  },
  {
   "cell_type": "code",
   "execution_count": 50,
   "id": "f4dae6ab",
   "metadata": {},
   "outputs": [],
   "source": [
    "l1 = [3, 4, 'karyacharan', 'Badrinath', 'Akshaya', 5.6, True, 'Praneeth']"
   ]
  },
  {
   "cell_type": "code",
   "execution_count": 51,
   "id": "f9295518",
   "metadata": {},
   "outputs": [
    {
     "ename": "TypeError",
     "evalue": "'>' not supported between instances of 'str' and 'int'",
     "output_type": "error",
     "traceback": [
      "\u001b[0;31m---------------------------------------------------------------------------\u001b[0m",
      "\u001b[0;31mTypeError\u001b[0m                                 Traceback (most recent call last)",
      "Input \u001b[0;32mIn [51]\u001b[0m, in \u001b[0;36m<cell line: 1>\u001b[0;34m()\u001b[0m\n\u001b[0;32m----> 1\u001b[0m \u001b[38;5;28;43mmax\u001b[39;49m\u001b[43m(\u001b[49m\u001b[43ml1\u001b[49m\u001b[43m)\u001b[49m\n",
      "\u001b[0;31mTypeError\u001b[0m: '>' not supported between instances of 'str' and 'int'"
     ]
    }
   ],
   "source": [
    "max(l1)"
   ]
  },
  {
   "cell_type": "code",
   "execution_count": 53,
   "id": "d9d92cf1",
   "metadata": {},
   "outputs": [],
   "source": [
    "l2 = [3,5,6,7,8,9,10]"
   ]
  },
  {
   "cell_type": "code",
   "execution_count": 54,
   "id": "4aefd6a0",
   "metadata": {},
   "outputs": [
    {
     "data": {
      "text/plain": [
       "10"
      ]
     },
     "execution_count": 54,
     "metadata": {},
     "output_type": "execute_result"
    }
   ],
   "source": [
    "max(l2)"
   ]
  },
  {
   "cell_type": "code",
   "execution_count": 55,
   "id": "cb70ab2c",
   "metadata": {},
   "outputs": [],
   "source": [
    "l3 = ['karyacharan', 'Badrinath', 'Akshaya',\"Madhu\",\"Priya\"]"
   ]
  },
  {
   "cell_type": "code",
   "execution_count": 56,
   "id": "00a02eb4",
   "metadata": {},
   "outputs": [
    {
     "data": {
      "text/plain": [
       "'karyacharan'"
      ]
     },
     "execution_count": 56,
     "metadata": {},
     "output_type": "execute_result"
    }
   ],
   "source": [
    "max(l3)"
   ]
  },
  {
   "cell_type": "code",
   "execution_count": 57,
   "id": "d9209d02",
   "metadata": {},
   "outputs": [
    {
     "data": {
      "text/plain": [
       "'Akshaya'"
      ]
     },
     "execution_count": 57,
     "metadata": {},
     "output_type": "execute_result"
    }
   ],
   "source": [
    "min(l3)"
   ]
  },
  {
   "cell_type": "code",
   "execution_count": 59,
   "id": "f4fc006b",
   "metadata": {},
   "outputs": [],
   "source": [
    "str"
   ]
  },
  {
   "cell_type": "code",
   "execution_count": 60,
   "id": "b2d97fae",
   "metadata": {},
   "outputs": [
    {
     "data": {
      "text/plain": [
       "'Badrinath'"
      ]
     },
     "execution_count": 60,
     "metadata": {},
     "output_type": "execute_result"
    }
   ],
   "source": [
    "min(l4)"
   ]
  },
  {
   "cell_type": "code",
   "execution_count": 61,
   "id": "d434ae0e",
   "metadata": {},
   "outputs": [],
   "source": [
    "l5 = [\"A\",\"B\",\"C\",\"D\",\"a\",\"b\",\"c\",\"d\"]"
   ]
  },
  {
   "cell_type": "code",
   "execution_count": 62,
   "id": "4e17b0d1",
   "metadata": {},
   "outputs": [
    {
     "data": {
      "text/plain": [
       "'d'"
      ]
     },
     "execution_count": 62,
     "metadata": {},
     "output_type": "execute_result"
    }
   ],
   "source": [
    "max(l5)"
   ]
  },
  {
   "cell_type": "code",
   "execution_count": 63,
   "id": "b58330fa",
   "metadata": {},
   "outputs": [
    {
     "data": {
      "text/plain": [
       "'A'"
      ]
     },
     "execution_count": 63,
     "metadata": {},
     "output_type": "execute_result"
    }
   ],
   "source": [
    "min(l5)"
   ]
  },
  {
   "cell_type": "code",
   "execution_count": 64,
   "id": "70630da9",
   "metadata": {},
   "outputs": [
    {
     "data": {
      "text/plain": [
       "[3, 5, 6, 7, 8, 9, 10]"
      ]
     },
     "execution_count": 64,
     "metadata": {},
     "output_type": "execute_result"
    }
   ],
   "source": [
    "l1"
   ]
  },
  {
   "cell_type": "code",
   "execution_count": 65,
   "id": "7db0bc26",
   "metadata": {},
   "outputs": [],
   "source": [
    "l1 = [3, 4, 'karyacharan', 'Badrinath', 'Akshaya', 5.6, True, 'Praneeth']"
   ]
  },
  {
   "cell_type": "code",
   "execution_count": 66,
   "id": "34109aad",
   "metadata": {},
   "outputs": [],
   "source": [
    "l1[0]= \"Shivani\""
   ]
  },
  {
   "cell_type": "code",
   "execution_count": 67,
   "id": "f234e234",
   "metadata": {},
   "outputs": [
    {
     "data": {
      "text/plain": [
       "['Shivani', 4, 'karyacharan', 'Badrinath', 'Akshaya', 5.6, True, 'Praneeth']"
      ]
     },
     "execution_count": 67,
     "metadata": {},
     "output_type": "execute_result"
    }
   ],
   "source": [
    "l1"
   ]
  },
  {
   "cell_type": "code",
   "execution_count": 68,
   "id": "c5dc975a",
   "metadata": {},
   "outputs": [],
   "source": [
    "l2 = (3, 4, 'karyacharan', 'Badrinath', 'Akshaya', 5.6, True, 'Praneeth')"
   ]
  },
  {
   "cell_type": "code",
   "execution_count": 69,
   "id": "c15ba1bc",
   "metadata": {},
   "outputs": [
    {
     "ename": "TypeError",
     "evalue": "'tuple' object does not support item assignment",
     "output_type": "error",
     "traceback": [
      "\u001b[0;31m---------------------------------------------------------------------------\u001b[0m",
      "\u001b[0;31mTypeError\u001b[0m                                 Traceback (most recent call last)",
      "Input \u001b[0;32mIn [69]\u001b[0m, in \u001b[0;36m<cell line: 1>\u001b[0;34m()\u001b[0m\n\u001b[0;32m----> 1\u001b[0m l2[\u001b[38;5;241m0\u001b[39m]\u001b[38;5;241m=\u001b[39m \u001b[38;5;124m\"\u001b[39m\u001b[38;5;124mShivani\u001b[39m\u001b[38;5;124m\"\u001b[39m\n",
      "\u001b[0;31mTypeError\u001b[0m: 'tuple' object does not support item assignment"
     ]
    }
   ],
   "source": [
    "l2[0]= \"Shivani\""
   ]
  },
  {
   "cell_type": "code",
   "execution_count": 70,
   "id": "dcbdc89b",
   "metadata": {},
   "outputs": [
    {
     "ename": "AttributeError",
     "evalue": "'tuple' object has no attribute 'pop'",
     "output_type": "error",
     "traceback": [
      "\u001b[0;31m---------------------------------------------------------------------------\u001b[0m",
      "\u001b[0;31mAttributeError\u001b[0m                            Traceback (most recent call last)",
      "Input \u001b[0;32mIn [70]\u001b[0m, in \u001b[0;36m<cell line: 1>\u001b[0;34m()\u001b[0m\n\u001b[0;32m----> 1\u001b[0m \u001b[43ml2\u001b[49m\u001b[38;5;241;43m.\u001b[39;49m\u001b[43mpop\u001b[49m()\n",
      "\u001b[0;31mAttributeError\u001b[0m: 'tuple' object has no attribute 'pop'"
     ]
    }
   ],
   "source": [
    "l2.pop()"
   ]
  },
  {
   "cell_type": "code",
   "execution_count": 71,
   "id": "a244adbf",
   "metadata": {},
   "outputs": [
    {
     "ename": "AttributeError",
     "evalue": "'tuple' object has no attribute 'append'",
     "output_type": "error",
     "traceback": [
      "\u001b[0;31m---------------------------------------------------------------------------\u001b[0m",
      "\u001b[0;31mAttributeError\u001b[0m                            Traceback (most recent call last)",
      "Input \u001b[0;32mIn [71]\u001b[0m, in \u001b[0;36m<cell line: 1>\u001b[0;34m()\u001b[0m\n\u001b[0;32m----> 1\u001b[0m \u001b[43ml2\u001b[49m\u001b[38;5;241;43m.\u001b[39;49m\u001b[43mappend\u001b[49m(\u001b[38;5;124m\"\u001b[39m\u001b[38;5;124ma\u001b[39m\u001b[38;5;124m\"\u001b[39m)\n",
      "\u001b[0;31mAttributeError\u001b[0m: 'tuple' object has no attribute 'append'"
     ]
    }
   ],
   "source": [
    "l2.append(\"a\")"
   ]
  },
  {
   "cell_type": "code",
   "execution_count": 72,
   "id": "4e94e6d2",
   "metadata": {},
   "outputs": [
    {
     "data": {
      "text/plain": [
       "1"
      ]
     },
     "execution_count": 72,
     "metadata": {},
     "output_type": "execute_result"
    }
   ],
   "source": [
    "l2.count(3)"
   ]
  },
  {
   "cell_type": "code",
   "execution_count": 73,
   "id": "c9344f85",
   "metadata": {},
   "outputs": [
    {
     "data": {
      "text/plain": [
       "3"
      ]
     },
     "execution_count": 73,
     "metadata": {},
     "output_type": "execute_result"
    }
   ],
   "source": [
    "l2.index(\"Badrinath\")"
   ]
  },
  {
   "cell_type": "code",
   "execution_count": 74,
   "id": "949c9273",
   "metadata": {},
   "outputs": [],
   "source": [
    "str = \"Badrinath\""
   ]
  },
  {
   "cell_type": "code",
   "execution_count": 75,
   "id": "bab62f66",
   "metadata": {},
   "outputs": [
    {
     "data": {
      "text/plain": [
       "'n'"
      ]
     },
     "execution_count": 75,
     "metadata": {},
     "output_type": "execute_result"
    }
   ],
   "source": [
    "str[5]"
   ]
  },
  {
   "cell_type": "code",
   "execution_count": 76,
   "id": "79b92db1",
   "metadata": {},
   "outputs": [
    {
     "ename": "TypeError",
     "evalue": "'str' object does not support item assignment",
     "output_type": "error",
     "traceback": [
      "\u001b[0;31m---------------------------------------------------------------------------\u001b[0m",
      "\u001b[0;31mTypeError\u001b[0m                                 Traceback (most recent call last)",
      "Input \u001b[0;32mIn [76]\u001b[0m, in \u001b[0;36m<cell line: 1>\u001b[0;34m()\u001b[0m\n\u001b[0;32m----> 1\u001b[0m \u001b[38;5;28mstr\u001b[39m[\u001b[38;5;241m5\u001b[39m] \u001b[38;5;241m=\u001b[39m \u001b[38;5;124m\"\u001b[39m\u001b[38;5;124mk\u001b[39m\u001b[38;5;124m\"\u001b[39m\n",
      "\u001b[0;31mTypeError\u001b[0m: 'str' object does not support item assignment"
     ]
    }
   ],
   "source": [
    "str[5] = \"k\""
   ]
  },
  {
   "cell_type": "code",
   "execution_count": 77,
   "id": "d18f9b66",
   "metadata": {},
   "outputs": [],
   "source": [
    "l2 = (3, 4, 'karyacharan', 'Badrinath', 'Akshaya', 5.6, True, 'Praneeth')"
   ]
  },
  {
   "cell_type": "code",
   "execution_count": 78,
   "id": "da4f4bdc",
   "metadata": {},
   "outputs": [
    {
     "data": {
      "text/plain": [
       "'Praneeth'"
      ]
     },
     "execution_count": 78,
     "metadata": {},
     "output_type": "execute_result"
    }
   ],
   "source": [
    "l2[7]"
   ]
  },
  {
   "cell_type": "code",
   "execution_count": 79,
   "id": "72fd77fd",
   "metadata": {},
   "outputs": [
    {
     "ename": "TypeError",
     "evalue": "can only concatenate tuple (not \"str\") to tuple",
     "output_type": "error",
     "traceback": [
      "\u001b[0;31m---------------------------------------------------------------------------\u001b[0m",
      "\u001b[0;31mTypeError\u001b[0m                                 Traceback (most recent call last)",
      "Input \u001b[0;32mIn [79]\u001b[0m, in \u001b[0;36m<cell line: 1>\u001b[0;34m()\u001b[0m\n\u001b[0;32m----> 1\u001b[0m \u001b[43ml2\u001b[49m\u001b[38;5;241;43m+\u001b[39;49m\u001b[38;5;124;43m\"\u001b[39;49m\u001b[38;5;124;43mPriya\u001b[39;49m\u001b[38;5;124;43m\"\u001b[39;49m\n",
      "\u001b[0;31mTypeError\u001b[0m: can only concatenate tuple (not \"str\") to tuple"
     ]
    }
   ],
   "source": [
    "l2+\"Priya\""
   ]
  },
  {
   "cell_type": "code",
   "execution_count": 80,
   "id": "82a39152",
   "metadata": {},
   "outputs": [
    {
     "ename": "TypeError",
     "evalue": "can only concatenate tuple (not \"str\") to tuple",
     "output_type": "error",
     "traceback": [
      "\u001b[0;31m---------------------------------------------------------------------------\u001b[0m",
      "\u001b[0;31mTypeError\u001b[0m                                 Traceback (most recent call last)",
      "Input \u001b[0;32mIn [80]\u001b[0m, in \u001b[0;36m<cell line: 1>\u001b[0;34m()\u001b[0m\n\u001b[0;32m----> 1\u001b[0m \u001b[43ml2\u001b[49m\u001b[38;5;241;43m+\u001b[39;49m\u001b[43m(\u001b[49m\u001b[38;5;124;43m\"\u001b[39;49m\u001b[38;5;124;43mPriya\u001b[39;49m\u001b[38;5;124;43m\"\u001b[39;49m\u001b[43m)\u001b[49m\n",
      "\u001b[0;31mTypeError\u001b[0m: can only concatenate tuple (not \"str\") to tuple"
     ]
    }
   ],
   "source": [
    "l2+(\"Priya\")"
   ]
  },
  {
   "cell_type": "code",
   "execution_count": 81,
   "id": "b31de3a0",
   "metadata": {},
   "outputs": [
    {
     "data": {
      "text/plain": [
       "(3, 4, 'karyacharan', 'Badrinath', 'Akshaya', 5.6, True, 'Praneeth')"
      ]
     },
     "execution_count": 81,
     "metadata": {},
     "output_type": "execute_result"
    }
   ],
   "source": [
    "l2[0:9]"
   ]
  },
  {
   "cell_type": "code",
   "execution_count": 82,
   "id": "2be19f0e",
   "metadata": {},
   "outputs": [
    {
     "data": {
      "text/plain": [
       "(3, 'karyacharan', 'Akshaya', True)"
      ]
     },
     "execution_count": 82,
     "metadata": {},
     "output_type": "execute_result"
    }
   ],
   "source": [
    "l2[0:9:2]"
   ]
  },
  {
   "cell_type": "code",
   "execution_count": 83,
   "id": "7a02af25",
   "metadata": {},
   "outputs": [
    {
     "data": {
      "text/plain": [
       "('Praneeth', True, 5.6, 'Akshaya', 'Badrinath', 'karyacharan', 4)"
      ]
     },
     "execution_count": 83,
     "metadata": {},
     "output_type": "execute_result"
    }
   ],
   "source": [
    "l2[9:0:-1]"
   ]
  },
  {
   "cell_type": "code",
   "execution_count": null,
   "id": "b18f847f",
   "metadata": {},
   "outputs": [],
   "source": [
    "l2 = (3, 4, 'karyacharan', 'Badrinath', 'Akshaya', 5.6, True, 'Praneeth')"
   ]
  },
  {
   "cell_type": "code",
   "execution_count": 1,
   "id": "9f270ed4",
   "metadata": {},
   "outputs": [
    {
     "ename": "NameError",
     "evalue": "name 'l2' is not defined",
     "output_type": "error",
     "traceback": [
      "\u001b[0;31m---------------------------------------------------------------------------\u001b[0m",
      "\u001b[0;31mNameError\u001b[0m                                 Traceback (most recent call last)",
      "Input \u001b[0;32mIn [1]\u001b[0m, in \u001b[0;36m<cell line: 1>\u001b[0;34m()\u001b[0m\n\u001b[0;32m----> 1\u001b[0m \u001b[43ml2\u001b[49m\n",
      "\u001b[0;31mNameError\u001b[0m: name 'l2' is not defined"
     ]
    }
   ],
   "source": [
    "l2"
   ]
  },
  {
   "cell_type": "code",
   "execution_count": 2,
   "id": "2cf8ced3",
   "metadata": {},
   "outputs": [],
   "source": [
    "l2 = (3, 4, 'karyacharan', 'Badrinath', 'Akshaya', 5.6, True, 'Praneeth')"
   ]
  },
  {
   "cell_type": "code",
   "execution_count": 3,
   "id": "c47a138a",
   "metadata": {},
   "outputs": [
    {
     "data": {
      "text/plain": [
       "('Praneeth', True, 5.6, 'Akshaya', 'Badrinath', 'karyacharan', 4, 3)"
      ]
     },
     "execution_count": 3,
     "metadata": {},
     "output_type": "execute_result"
    }
   ],
   "source": [
    "l2[-1:-100:-1]"
   ]
  },
  {
   "cell_type": "code",
   "execution_count": 4,
   "id": "36008104",
   "metadata": {},
   "outputs": [],
   "source": [
    "l1 = ['Praneeth', True, 5.6, 'Akshaya', 'Badrinath', 'karyacharan', 4, 3]"
   ]
  },
  {
   "cell_type": "code",
   "execution_count": 5,
   "id": "7532a35d",
   "metadata": {},
   "outputs": [
    {
     "data": {
      "text/plain": [
       "['Praneeth', True, 5.6, 'Akshaya', 'Badrinath', 'karyacharan', 4, 3, 'Bhargav']"
      ]
     },
     "execution_count": 5,
     "metadata": {},
     "output_type": "execute_result"
    }
   ],
   "source": [
    "l1+[\"Bhargav\"]"
   ]
  },
  {
   "cell_type": "code",
   "execution_count": 6,
   "id": "61c19dc0",
   "metadata": {},
   "outputs": [],
   "source": [
    "l1.insert(3,\"Chandana\")"
   ]
  },
  {
   "cell_type": "code",
   "execution_count": 7,
   "id": "4f121d6f",
   "metadata": {},
   "outputs": [
    {
     "data": {
      "text/plain": [
       "['Praneeth',\n",
       " True,\n",
       " 5.6,\n",
       " 'Chandana',\n",
       " 'Akshaya',\n",
       " 'Badrinath',\n",
       " 'karyacharan',\n",
       " 4,\n",
       " 3]"
      ]
     },
     "execution_count": 7,
     "metadata": {},
     "output_type": "execute_result"
    }
   ],
   "source": [
    "l1"
   ]
  },
  {
   "cell_type": "code",
   "execution_count": 8,
   "id": "0dc48ac4",
   "metadata": {},
   "outputs": [],
   "source": [
    "l1.insert(-1,\"Chandana\")"
   ]
  },
  {
   "cell_type": "code",
   "execution_count": 9,
   "id": "a73f31b0",
   "metadata": {},
   "outputs": [
    {
     "data": {
      "text/plain": [
       "['Praneeth',\n",
       " True,\n",
       " 5.6,\n",
       " 'Chandana',\n",
       " 'Akshaya',\n",
       " 'Badrinath',\n",
       " 'karyacharan',\n",
       " 4,\n",
       " 'Chandana',\n",
       " 3]"
      ]
     },
     "execution_count": 9,
     "metadata": {},
     "output_type": "execute_result"
    }
   ],
   "source": [
    "l1"
   ]
  },
  {
   "cell_type": "code",
   "execution_count": 10,
   "id": "c1b872da",
   "metadata": {},
   "outputs": [
    {
     "data": {
      "text/plain": [
       "['Praneeth',\n",
       " True,\n",
       " 5.6,\n",
       " 'Chandana',\n",
       " 'Akshaya',\n",
       " 'Badrinath',\n",
       " 'karyacharan',\n",
       " 4,\n",
       " 'Chandana',\n",
       " 3]"
      ]
     },
     "execution_count": 10,
     "metadata": {},
     "output_type": "execute_result"
    }
   ],
   "source": [
    "l1"
   ]
  },
  {
   "cell_type": "code",
   "execution_count": 11,
   "id": "b135eba0",
   "metadata": {},
   "outputs": [],
   "source": [
    "l1.insert(-4,89)"
   ]
  },
  {
   "cell_type": "code",
   "execution_count": 12,
   "id": "5f43fb32",
   "metadata": {},
   "outputs": [
    {
     "data": {
      "text/plain": [
       "['Praneeth',\n",
       " True,\n",
       " 5.6,\n",
       " 'Chandana',\n",
       " 'Akshaya',\n",
       " 'Badrinath',\n",
       " 89,\n",
       " 'karyacharan',\n",
       " 4,\n",
       " 'Chandana',\n",
       " 3]"
      ]
     },
     "execution_count": 12,
     "metadata": {},
     "output_type": "execute_result"
    }
   ],
   "source": [
    "l1"
   ]
  },
  {
   "cell_type": "code",
   "execution_count": 13,
   "id": "f157f34c",
   "metadata": {},
   "outputs": [],
   "source": [
    "l2 = ['Praneeth',\n",
    " True,\n",
    " 5.6,\n",
    " 'Chandana',\n",
    " 'Akshaya',\n",
    " 'Badrinath',\n",
    " 89,\n",
    " 'karyacharan',]"
   ]
  },
  {
   "cell_type": "code",
   "execution_count": 14,
   "id": "5f736ad5",
   "metadata": {},
   "outputs": [
    {
     "data": {
      "text/plain": [
       "['Praneeth', True, 5.6, 'Chandana', 'Akshaya', 'Badrinath', 89, 'karyacharan']"
      ]
     },
     "execution_count": 14,
     "metadata": {},
     "output_type": "execute_result"
    }
   ],
   "source": [
    "l2"
   ]
  },
  {
   "cell_type": "code",
   "execution_count": 15,
   "id": "0a42d6a7",
   "metadata": {},
   "outputs": [],
   "source": [
    "l2.append([4,\n",
    " 'Chandana',\n",
    " 3])"
   ]
  },
  {
   "cell_type": "code",
   "execution_count": 16,
   "id": "0941a955",
   "metadata": {},
   "outputs": [
    {
     "data": {
      "text/plain": [
       "['Praneeth',\n",
       " True,\n",
       " 5.6,\n",
       " 'Chandana',\n",
       " 'Akshaya',\n",
       " 'Badrinath',\n",
       " 89,\n",
       " 'karyacharan',\n",
       " [4, 'Chandana', 3]]"
      ]
     },
     "execution_count": 16,
     "metadata": {},
     "output_type": "execute_result"
    }
   ],
   "source": [
    "l2"
   ]
  },
  {
   "cell_type": "code",
   "execution_count": 17,
   "id": "047c51d9",
   "metadata": {},
   "outputs": [
    {
     "data": {
      "text/plain": [
       "'Chandana'"
      ]
     },
     "execution_count": 17,
     "metadata": {},
     "output_type": "execute_result"
    }
   ],
   "source": [
    "l2[3]"
   ]
  },
  {
   "cell_type": "code",
   "execution_count": 18,
   "id": "f26b2a7b",
   "metadata": {},
   "outputs": [],
   "source": [
    "l2.remove(\"Chandana\")"
   ]
  },
  {
   "cell_type": "code",
   "execution_count": 19,
   "id": "022985b9",
   "metadata": {},
   "outputs": [
    {
     "data": {
      "text/plain": [
       "['Praneeth',\n",
       " True,\n",
       " 5.6,\n",
       " 'Akshaya',\n",
       " 'Badrinath',\n",
       " 89,\n",
       " 'karyacharan',\n",
       " [4, 'Chandana', 3]]"
      ]
     },
     "execution_count": 19,
     "metadata": {},
     "output_type": "execute_result"
    }
   ],
   "source": [
    "l2"
   ]
  },
  {
   "cell_type": "code",
   "execution_count": 20,
   "id": "458d0690",
   "metadata": {},
   "outputs": [],
   "source": [
    "d = {\"name\":\"Praneeth\",\"Age\":18,\"Branch\":\"CSE\"}"
   ]
  },
  {
   "cell_type": "code",
   "execution_count": 22,
   "id": "af19d8b8",
   "metadata": {},
   "outputs": [
    {
     "data": {
      "text/plain": [
       "18"
      ]
     },
     "execution_count": 22,
     "metadata": {},
     "output_type": "execute_result"
    }
   ],
   "source": [
    "d[\"Age\"]"
   ]
  },
  {
   "cell_type": "code",
   "execution_count": null,
   "id": "595c36b4",
   "metadata": {},
   "outputs": [],
   "source": []
  }
 ],
 "metadata": {
  "kernelspec": {
   "display_name": "Python 3 (ipykernel)",
   "language": "python",
   "name": "python3"
  },
  "language_info": {
   "codemirror_mode": {
    "name": "ipython",
    "version": 3
   },
   "file_extension": ".py",
   "mimetype": "text/x-python",
   "name": "python",
   "nbconvert_exporter": "python",
   "pygments_lexer": "ipython3",
   "version": "3.9.12"
  }
 },
 "nbformat": 4,
 "nbformat_minor": 5
}
