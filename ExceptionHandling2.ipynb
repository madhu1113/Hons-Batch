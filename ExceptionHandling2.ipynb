{
 "cells": [
  {
   "cell_type": "code",
   "execution_count": 1,
   "id": "cfdc0435",
   "metadata": {},
   "outputs": [
    {
     "name": "stdout",
     "output_type": "stream",
     "text": [
      "Enter the first number87\n",
      "Enter the second number0\n",
      "Non Zero Denominator\n",
      "Enter the first number78\n",
      "Enter the second numbermadhu\n",
      "there shouldn't ba a string\n",
      "Enter the first number87\n",
      "Enter the second number67\n",
      "1.2985074626865671\n"
     ]
    }
   ],
   "source": [
    "while True:\n",
    "    try:\n",
    "        a = int(input(\"Enter the first number\"))\n",
    "        b = int(input(\"Enter the second number\"))\n",
    "        c = a/b\n",
    "        print(c)\n",
    "        break\n",
    "    except ZeroDivisionError:\n",
    "        print(\"Non Zero Denominator\")\n",
    "    except ValueError:\n",
    "        print(\"there shouldn't ba a string\")\n",
    "        \n",
    "        \n",
    "        "
   ]
  },
  {
   "cell_type": "code",
   "execution_count": 4,
   "id": "caaacdaf",
   "metadata": {},
   "outputs": [
    {
     "name": "stdout",
     "output_type": "stream",
     "text": [
      "Enter the first number98\n",
      "Enter the second number0\n",
      "division by zero\n",
      "Enter the first number65\n",
      "Enter the second numbermadhu\n",
      "invalid literal for int() with base 10: 'madhu'\n",
      "Enter the first number67\n",
      "Enter the second number76\n",
      "0.881578947368421\n"
     ]
    }
   ],
   "source": [
    "while True:\n",
    "    try:\n",
    "        a = int(input(\"Enter the first number\"))\n",
    "        b = int(input(\"Enter the second number\"))\n",
    "        c = a/b\n",
    "        print(c)\n",
    "        break\n",
    "    except ZeroDivisionError as e:\n",
    "        print(e)\n",
    "    except ValueError as e:\n",
    "        print(e)"
   ]
  },
  {
   "cell_type": "code",
   "execution_count": 1,
   "id": "cedb3de8",
   "metadata": {},
   "outputs": [
    {
     "name": "stdout",
     "output_type": "stream",
     "text": [
      "Enter the first number45\n",
      "Enter the second number0\n",
      "(<class 'ZeroDivisionError'>, ZeroDivisionError('division by zero'), <traceback object at 0x7fbe9823fa00>)\n"
     ]
    }
   ],
   "source": [
    "#exc_info()\n",
    "import sys\n",
    "while True:\n",
    "    try:\n",
    "        a = int(input(\"Enter the first number\"))\n",
    "        b = int(input(\"Enter the second number\"))\n",
    "        c = a/b\n",
    "        print(c)\n",
    "        break\n",
    "    except:\n",
    "        print(sys.exc_info())\n",
    "        break"
   ]
  },
  {
   "cell_type": "code",
   "execution_count": 4,
   "id": "00e9404d",
   "metadata": {},
   "outputs": [
    {
     "name": "stdout",
     "output_type": "stream",
     "text": [
      "Enter the first number76\n",
      "Enter the second number0\n",
      "Exception class:  <class 'ZeroDivisionError'>\n",
      "Exception message:  division by zero\n",
      "line no.:  6\n"
     ]
    }
   ],
   "source": [
    "import sys\n",
    "while True:\n",
    "    try:\n",
    "        a = int(input(\"Enter the first number\"))\n",
    "        b = int(input(\"Enter the second number\"))\n",
    "        c = a/b\n",
    "        print(c)\n",
    "        break\n",
    "    except:\n",
    "        a,b,c = sys.exc_info()\n",
    "        print(\"Exception class: \", a)\n",
    "        print(\"Exception message: \", b)\n",
    "        print(\"line no.: \", c.tb_lineno)\n",
    "        break"
   ]
  },
  {
   "cell_type": "code",
   "execution_count": 6,
   "id": "da1a58a5",
   "metadata": {},
   "outputs": [
    {
     "name": "stdout",
     "output_type": "stream",
     "text": [
      "Enter the first number56\n",
      "Enter the second number0\n",
      "Traceback (most recent call last):\n",
      "  File \"/var/folders/y4/6_3sgdc945dcscpnt6p8q7100000gn/T/ipykernel_14411/1392991075.py\", line 7, in <cell line: 4>\n",
      "    c = a/b\n",
      "ZeroDivisionError: division by zero\n",
      "\n"
     ]
    }
   ],
   "source": [
    "# format_exc()\n",
    "import traceback\n",
    "while True:\n",
    "    try:\n",
    "        a = int(input(\"Enter the first number\"))\n",
    "        b = int(input(\"Enter the second number\"))\n",
    "        c = a/b\n",
    "        print(c)\n",
    "        break\n",
    "    except:\n",
    "        print(traceback.format_exc())\n",
    "        break\n"
   ]
  },
  {
   "cell_type": "code",
   "execution_count": 8,
   "id": "b9e486e1",
   "metadata": {},
   "outputs": [
    {
     "name": "stdout",
     "output_type": "stream",
     "text": [
      "Enter the first number56\n",
      "Enter the second number-45\n",
      "negative no is not allowed\n",
      "Enter the first number45\n",
      "Enter the second number67\n",
      "0.6716417910447762\n"
     ]
    }
   ],
   "source": [
    "# raise\n",
    "while True:\n",
    "    try:\n",
    "        a = int(input(\"Enter the first number\"))\n",
    "        b = int(input(\"Enter the second number\"))\n",
    "        if a<0 or b<0:\n",
    "            raise Exception(\"negative no is not allowed\")\n",
    "        c = a/b\n",
    "        print(c)\n",
    "        break\n",
    "    except ZeroDivisionError:\n",
    "        print(\"Non Zero Denominator\")\n",
    "    except ValueError:\n",
    "        print(\"there shouldn't ba a string\")\n",
    "    except Exception as e:\n",
    "        print(e)\n",
    "    \n"
   ]
  },
  {
   "cell_type": "code",
   "execution_count": 2,
   "id": "930ed3ee",
   "metadata": {},
   "outputs": [],
   "source": [
    "class NegativeNumberException(Exception):\n",
    "    pass"
   ]
  },
  {
   "cell_type": "code",
   "execution_count": null,
   "id": "6aaa866c",
   "metadata": {},
   "outputs": [
    {
     "name": "stdout",
     "output_type": "stream",
     "text": [
      "Enter the first number56\n",
      "Enter the second number-56\n",
      "negative no is not allowed\n"
     ]
    }
   ],
   "source": [
    "while True:\n",
    "    try:\n",
    "        a = int(input(\"Enter the first number\"))\n",
    "        b = int(input(\"Enter the second number\"))\n",
    "        if a<0 or b<0:\n",
    "            raise NegativeNumberException(\"negative no is not allowed\")\n",
    "        c = a/b\n",
    "        print(c)\n",
    "        break\n",
    "    except ZeroDivisionError:\n",
    "        print(\"Non Zero Denominator\")\n",
    "    except ValueError:\n",
    "        print(\"there shouldn't ba a string\")\n",
    "    except Exception as e:\n",
    "        print(e)\n",
    "    \n"
   ]
  },
  {
   "cell_type": "code",
   "execution_count": 10,
   "id": "5333ee9e",
   "metadata": {},
   "outputs": [
    {
     "name": "stdout",
     "output_type": "stream",
     "text": [
      "Enter the first numbermadhu\n",
      "Hello\n",
      "Python\n"
     ]
    },
    {
     "ename": "ValueError",
     "evalue": "invalid literal for int() with base 10: 'madhu'",
     "output_type": "error",
     "traceback": [
      "\u001b[0;31m---------------------------------------------------------------------------\u001b[0m",
      "\u001b[0;31mValueError\u001b[0m                                Traceback (most recent call last)",
      "Input \u001b[0;32mIn [10]\u001b[0m, in \u001b[0;36m<cell line: 2>\u001b[0;34m()\u001b[0m\n\u001b[1;32m      1\u001b[0m \u001b[38;5;66;03m# finally\u001b[39;00m\n\u001b[1;32m      2\u001b[0m \u001b[38;5;28;01mtry\u001b[39;00m:\n\u001b[0;32m----> 3\u001b[0m     a \u001b[38;5;241m=\u001b[39m \u001b[38;5;28;43mint\u001b[39;49m\u001b[43m(\u001b[49m\u001b[38;5;28;43minput\u001b[39;49m\u001b[43m(\u001b[49m\u001b[38;5;124;43m\"\u001b[39;49m\u001b[38;5;124;43mEnter the first number\u001b[39;49m\u001b[38;5;124;43m\"\u001b[39;49m\u001b[43m)\u001b[49m\u001b[43m)\u001b[49m\n\u001b[1;32m      4\u001b[0m     b \u001b[38;5;241m=\u001b[39m \u001b[38;5;28mint\u001b[39m(\u001b[38;5;28minput\u001b[39m(\u001b[38;5;124m\"\u001b[39m\u001b[38;5;124mEnter the second number\u001b[39m\u001b[38;5;124m\"\u001b[39m))\n\u001b[1;32m      5\u001b[0m     c \u001b[38;5;241m=\u001b[39m a\u001b[38;5;241m/\u001b[39mb\n",
      "\u001b[0;31mValueError\u001b[0m: invalid literal for int() with base 10: 'madhu'"
     ]
    }
   ],
   "source": [
    "# finally\n",
    "try:\n",
    "    a = int(input(\"Enter the first number\"))\n",
    "    b = int(input(\"Enter the second number\"))\n",
    "    c = a/b\n",
    "    print(c)\n",
    "except ZeroDivisionError:\n",
    "    print(\"Non Zero Denominator\")\n",
    "finally:  \n",
    "    print(\"Hello\")\n",
    "    print(\"Python\")\n",
    "        "
   ]
  },
  {
   "cell_type": "code",
   "execution_count": 13,
   "id": "f539dcf7",
   "metadata": {},
   "outputs": [
    {
     "name": "stdout",
     "output_type": "stream",
     "text": [
      "Enter the first number87\n",
      "Enter the second numbermadhu\n"
     ]
    },
    {
     "ename": "ValueError",
     "evalue": "invalid literal for int() with base 10: 'madhu'",
     "output_type": "error",
     "traceback": [
      "\u001b[0;31m---------------------------------------------------------------------------\u001b[0m",
      "\u001b[0;31mValueError\u001b[0m                                Traceback (most recent call last)",
      "Input \u001b[0;32mIn [13]\u001b[0m, in \u001b[0;36m<cell line: 2>\u001b[0;34m()\u001b[0m\n\u001b[1;32m      2\u001b[0m \u001b[38;5;28;01mtry\u001b[39;00m:\n\u001b[1;32m      3\u001b[0m     a \u001b[38;5;241m=\u001b[39m \u001b[38;5;28mint\u001b[39m(\u001b[38;5;28minput\u001b[39m(\u001b[38;5;124m\"\u001b[39m\u001b[38;5;124mEnter the first number\u001b[39m\u001b[38;5;124m\"\u001b[39m))\n\u001b[0;32m----> 4\u001b[0m     b \u001b[38;5;241m=\u001b[39m \u001b[38;5;28;43mint\u001b[39;49m\u001b[43m(\u001b[49m\u001b[38;5;28;43minput\u001b[39;49m\u001b[43m(\u001b[49m\u001b[38;5;124;43m\"\u001b[39;49m\u001b[38;5;124;43mEnter the second number\u001b[39;49m\u001b[38;5;124;43m\"\u001b[39;49m\u001b[43m)\u001b[49m\u001b[43m)\u001b[49m\n\u001b[1;32m      5\u001b[0m     c \u001b[38;5;241m=\u001b[39m a\u001b[38;5;241m/\u001b[39mb\n\u001b[1;32m      6\u001b[0m     \u001b[38;5;28mprint\u001b[39m(c)\n",
      "\u001b[0;31mValueError\u001b[0m: invalid literal for int() with base 10: 'madhu'"
     ]
    }
   ],
   "source": [
    "# else\n",
    "try:\n",
    "    a = int(input(\"Enter the first number\"))\n",
    "    b = int(input(\"Enter the second number\"))\n",
    "    c = a/b\n",
    "    print(c)\n",
    "except ZeroDivisionError:\n",
    "    print(\"Non Zero Denominator\")\n",
    "else:  \n",
    "    print(\"Hello\")\n",
    "    print(\"Python\")"
   ]
  },
  {
   "cell_type": "code",
   "execution_count": null,
   "id": "33f5f7cc",
   "metadata": {},
   "outputs": [],
   "source": []
  }
 ],
 "metadata": {
  "kernelspec": {
   "display_name": "Python 3 (ipykernel)",
   "language": "python",
   "name": "python3"
  },
  "language_info": {
   "codemirror_mode": {
    "name": "ipython",
    "version": 3
   },
   "file_extension": ".py",
   "mimetype": "text/x-python",
   "name": "python",
   "nbconvert_exporter": "python",
   "pygments_lexer": "ipython3",
   "version": "3.9.12"
  }
 },
 "nbformat": 4,
 "nbformat_minor": 5
}
