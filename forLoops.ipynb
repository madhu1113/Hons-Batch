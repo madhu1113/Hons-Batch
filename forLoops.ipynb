{
 "cells": [
  {
   "cell_type": "code",
   "execution_count": 3,
   "id": "0a9747d8",
   "metadata": {},
   "outputs": [],
   "source": [
    "l = [3,4,5,6,\"Amaan\",8.9,12,56]"
   ]
  },
  {
   "cell_type": "code",
   "execution_count": 4,
   "id": "10cfa7f5",
   "metadata": {},
   "outputs": [
    {
     "data": {
      "text/plain": [
       "True"
      ]
     },
     "execution_count": 4,
     "metadata": {},
     "output_type": "execute_result"
    }
   ],
   "source": [
    "\"Amaan\" in l"
   ]
  },
  {
   "cell_type": "code",
   "execution_count": 6,
   "id": "76e48d94",
   "metadata": {},
   "outputs": [
    {
     "name": "stdout",
     "output_type": "stream",
     "text": [
      "3\n",
      "4\n",
      "5\n",
      "6\n",
      "Amaan\n",
      "8.9\n",
      "12\n",
      "56\n"
     ]
    }
   ],
   "source": [
    "for i in l:\n",
    "    print(i)\n",
    "    "
   ]
  },
  {
   "cell_type": "code",
   "execution_count": 7,
   "id": "33f98f7b",
   "metadata": {},
   "outputs": [],
   "source": [
    "t = (3,4,5,6,\"Amaan\",8.9,12,56)"
   ]
  },
  {
   "cell_type": "code",
   "execution_count": 9,
   "id": "3ed8054c",
   "metadata": {},
   "outputs": [
    {
     "name": "stdout",
     "output_type": "stream",
     "text": [
      "3\n",
      "4\n",
      "5\n",
      "6\n",
      "Amaan\n",
      "8.9\n",
      "12\n",
      "56\n"
     ]
    }
   ],
   "source": [
    "for i in t:\n",
    "    print(i)"
   ]
  },
  {
   "cell_type": "code",
   "execution_count": 10,
   "id": "742fe4b5",
   "metadata": {},
   "outputs": [],
   "source": [
    "s = {3,4,5,6,\"Amaan\",8.9,12,56,6,6,6}"
   ]
  },
  {
   "cell_type": "code",
   "execution_count": 11,
   "id": "dd22b552",
   "metadata": {},
   "outputs": [
    {
     "name": "stdout",
     "output_type": "stream",
     "text": [
      "3\n",
      "4\n",
      "5\n",
      "6\n",
      "8.9\n",
      "12\n",
      "Amaan\n",
      "56\n"
     ]
    }
   ],
   "source": [
    "for i in s:\n",
    "    print(i)"
   ]
  },
  {
   "cell_type": "code",
   "execution_count": 12,
   "id": "9f32dfdb",
   "metadata": {},
   "outputs": [
    {
     "ename": "TypeError",
     "evalue": "'set' object is not subscriptable",
     "output_type": "error",
     "traceback": [
      "\u001b[0;31m---------------------------------------------------------------------------\u001b[0m",
      "\u001b[0;31mTypeError\u001b[0m                                 Traceback (most recent call last)",
      "Input \u001b[0;32mIn [12]\u001b[0m, in \u001b[0;36m<cell line: 1>\u001b[0;34m()\u001b[0m\n\u001b[0;32m----> 1\u001b[0m \u001b[43ms\u001b[49m\u001b[43m[\u001b[49m\u001b[38;5;241;43m0\u001b[39;49m\u001b[43m]\u001b[49m\n",
      "\u001b[0;31mTypeError\u001b[0m: 'set' object is not subscriptable"
     ]
    }
   ],
   "source": [
    "s[0]"
   ]
  },
  {
   "cell_type": "code",
   "execution_count": 13,
   "id": "49958c9e",
   "metadata": {},
   "outputs": [],
   "source": [
    "d = {\"name\":\"Amaan\", \"class\":\"2nd yesr\", \"Sub\":\"Python\", \"age\":20}"
   ]
  },
  {
   "cell_type": "code",
   "execution_count": 15,
   "id": "13a7abbb",
   "metadata": {},
   "outputs": [
    {
     "data": {
      "text/plain": [
       "'2nd yesr'"
      ]
     },
     "execution_count": 15,
     "metadata": {},
     "output_type": "execute_result"
    }
   ],
   "source": [
    "d[\"class\"]"
   ]
  },
  {
   "cell_type": "code",
   "execution_count": 16,
   "id": "c3d8cff1",
   "metadata": {},
   "outputs": [
    {
     "name": "stdout",
     "output_type": "stream",
     "text": [
      "name : Amaan\n",
      "class : 2nd yesr\n",
      "Sub : Python\n",
      "age : 20\n"
     ]
    }
   ],
   "source": [
    "for i in d:\n",
    "    print(i,\":\",d[i])"
   ]
  },
  {
   "cell_type": "code",
   "execution_count": 5,
   "id": "70e29e87",
   "metadata": {},
   "outputs": [
    {
     "data": {
      "text/plain": [
       "[3, 4, 5, 6, 'Amaan', 8.9, 12, 56]"
      ]
     },
     "execution_count": 5,
     "metadata": {},
     "output_type": "execute_result"
    }
   ],
   "source": [
    "l\n",
    "    "
   ]
  },
  {
   "cell_type": "code",
   "execution_count": 6,
   "id": "2e138658",
   "metadata": {},
   "outputs": [
    {
     "name": "stdout",
     "output_type": "stream",
     "text": [
      "3\n",
      "4\n",
      "5\n",
      "6\n"
     ]
    }
   ],
   "source": [
    "for i in l:\n",
    "    if i == \"Amaan\":\n",
    "        break\n",
    "    print(i)\n",
    "else:\n",
    "    print(\"Something else\")"
   ]
  },
  {
   "cell_type": "code",
   "execution_count": 7,
   "id": "acbff4d8",
   "metadata": {},
   "outputs": [
    {
     "name": "stdout",
     "output_type": "stream",
     "text": [
      "3\n",
      "4\n",
      "5\n",
      "6\n",
      "Amaan\n",
      "8.9\n",
      "12\n",
      "56\n",
      "Something else\n"
     ]
    }
   ],
   "source": [
    "for i in l:\n",
    "    print(i)\n",
    "else:\n",
    "    print(\"Something else\")"
   ]
  },
  {
   "cell_type": "code",
   "execution_count": 10,
   "id": "d2f77635",
   "metadata": {},
   "outputs": [
    {
     "name": "stdout",
     "output_type": "stream",
     "text": [
      "3\n",
      "4\n",
      "5\n",
      "6\n",
      "8.9\n",
      "12\n",
      "56\n",
      "Something else\n"
     ]
    }
   ],
   "source": [
    "for i in l:\n",
    "    if i == \"Amaan\":\n",
    "        pass\n",
    "    l\n",
    "else:\n",
    "      print(\"Something else\")"
   ]
  },
  {
   "cell_type": "code",
   "execution_count": 9,
   "id": "238dbb61",
   "metadata": {},
   "outputs": [
    {
     "name": "stdout",
     "output_type": "stream",
     "text": [
      "3\n",
      "4\n",
      "5\n",
      "6\n",
      "8.9\n",
      "12\n",
      "56\n"
     ]
    }
   ],
   "source": [
    "for i in l:\n",
    "    if i == \"Amaan\":\n",
    "        pass\n",
    "    else:\n",
    "        print(i)\n",
    "        "
   ]
  },
  {
   "cell_type": "code",
   "execution_count": 11,
   "id": "2e5ea7c7",
   "metadata": {},
   "outputs": [
    {
     "data": {
      "text/plain": [
       "[3, 4, 5, 6, 'Amaan', 8.9, 12, 56]"
      ]
     },
     "execution_count": 11,
     "metadata": {},
     "output_type": "execute_result"
    }
   ],
   "source": [
    "l\n"
   ]
  },
  {
   "cell_type": "code",
   "execution_count": 12,
   "id": "17502d7b",
   "metadata": {},
   "outputs": [
    {
     "name": "stdout",
     "output_type": "stream",
     "text": [
      "4\n",
      "5\n",
      "6\n",
      "7\n",
      "Amaan1\n",
      "9.9\n",
      "13\n",
      "57\n"
     ]
    }
   ],
   "source": [
    "for i in l:\n",
    "    if i==\"Amaan\":\n",
    "        print(i+\"1\")\n",
    "    else:\n",
    "        print(i+1)"
   ]
  },
  {
   "cell_type": "code",
   "execution_count": 14,
   "id": "e1db78e9",
   "metadata": {},
   "outputs": [
    {
     "name": "stdout",
     "output_type": "stream",
     "text": [
      "4\n",
      "5\n",
      "6\n",
      "7\n",
      "Amaan1\n",
      "9.9\n",
      "13\n",
      "57\n"
     ]
    }
   ],
   "source": [
    "for i in l:\n",
    "    if isinstance(i,str):\n",
    "        print(i+\"1\")\n",
    "    else:\n",
    "        print(i+1)"
   ]
  },
  {
   "cell_type": "code",
   "execution_count": 16,
   "id": "5a7a5030",
   "metadata": {},
   "outputs": [
    {
     "name": "stdout",
     "output_type": "stream",
     "text": [
      "4\n",
      "5\n",
      "6\n",
      "7\n",
      "Amaan1\n",
      "9.9\n",
      "13\n",
      "57\n"
     ]
    }
   ],
   "source": [
    "for i in l:\n",
    "    if type(i)==str:\n",
    "        print(i+\"1\")\n",
    "    else:\n",
    "        print(i+1)"
   ]
  },
  {
   "cell_type": "code",
   "execution_count": 23,
   "id": "f6e91896",
   "metadata": {},
   "outputs": [
    {
     "data": {
      "text/plain": [
       "[9, 8, 7, 6, 5, 4, 3, 2, 1]"
      ]
     },
     "execution_count": 23,
     "metadata": {},
     "output_type": "execute_result"
    }
   ],
   "source": [
    "list(range(9,0,-1))"
   ]
  },
  {
   "cell_type": "code",
   "execution_count": 26,
   "id": "765b0873",
   "metadata": {},
   "outputs": [
    {
     "data": {
      "text/plain": [
       "[0, 1, 2, 3, 4, 5, 6, 7]"
      ]
     },
     "execution_count": 26,
     "metadata": {},
     "output_type": "execute_result"
    }
   ],
   "source": [
    "list(range(len(l)))"
   ]
  },
  {
   "cell_type": "code",
   "execution_count": 28,
   "id": "5cb75009",
   "metadata": {},
   "outputs": [
    {
     "name": "stdout",
     "output_type": "stream",
     "text": [
      "0\n",
      "1\n",
      "2\n",
      "3\n",
      "4\n",
      "5\n",
      "6\n",
      "7\n"
     ]
    }
   ],
   "source": [
    "for i in range(len(l)):\n",
    "    print(i)"
   ]
  },
  {
   "cell_type": "code",
   "execution_count": 29,
   "id": "a6c8b9a7",
   "metadata": {},
   "outputs": [
    {
     "data": {
      "text/plain": [
       "[3, 4, 5, 6, 'Amaan', 8.9, 12, 56]"
      ]
     },
     "execution_count": 29,
     "metadata": {},
     "output_type": "execute_result"
    }
   ],
   "source": [
    "l"
   ]
  },
  {
   "cell_type": "code",
   "execution_count": 30,
   "id": "d0071817",
   "metadata": {},
   "outputs": [
    {
     "name": "stdout",
     "output_type": "stream",
     "text": [
      "0 : 3\n",
      "1 : 4\n",
      "2 : 5\n",
      "3 : 6\n",
      "4 : Amaan\n",
      "5 : 8.9\n",
      "6 : 12\n",
      "7 : 56\n"
     ]
    }
   ],
   "source": [
    "for i in range(len(l)):\n",
    "    print(i,\":\",l[i])"
   ]
  },
  {
   "cell_type": "code",
   "execution_count": 45,
   "id": "8c2a00c5",
   "metadata": {},
   "outputs": [
    {
     "name": "stdout",
     "output_type": "stream",
     "text": [
      "7\n",
      "6\n",
      "5\n",
      "4\n",
      "3\n",
      "2\n",
      "1\n",
      "0\n"
     ]
    }
   ],
   "source": [
    "for i in range(len(l)-1,-1,-1):\n",
    "    print(i)"
   ]
  },
  {
   "cell_type": "code",
   "execution_count": 43,
   "id": "fe8290f9",
   "metadata": {},
   "outputs": [
    {
     "name": "stdout",
     "output_type": "stream",
     "text": [
      "7 : 56\n",
      "6 : 12\n",
      "5 : 8.9\n",
      "4 : Amaan\n",
      "3 : 6\n",
      "2 : 5\n",
      "1 : 4\n"
     ]
    }
   ],
   "source": [
    "for i in range(7,-1,-1):\n",
    "    print(i,\":\",l[i])"
   ]
  },
  {
   "cell_type": "code",
   "execution_count": 47,
   "id": "543464a0",
   "metadata": {},
   "outputs": [
    {
     "data": {
      "text/plain": [
       "[9, 8, 7, 6, 5, 4, 3, 2, 1]"
      ]
     },
     "execution_count": 47,
     "metadata": {},
     "output_type": "execute_result"
    }
   ],
   "source": [
    "list(range(9,-1,-1))"
   ]
  },
  {
   "cell_type": "code",
   "execution_count": 48,
   "id": "87e49939",
   "metadata": {},
   "outputs": [
    {
     "data": {
      "text/plain": [
       "[3, 4, 5, 6, 'Amaan', 8.9, 12, 56]"
      ]
     },
     "execution_count": 48,
     "metadata": {},
     "output_type": "execute_result"
    }
   ],
   "source": [
    "l"
   ]
  },
  {
   "cell_type": "code",
   "execution_count": 52,
   "id": "8e53641e",
   "metadata": {},
   "outputs": [],
   "source": [
    "l1=[]\n",
    "for i in l:\n",
    "    if type(i)==int:\n",
    "        l1.append(i)"
   ]
  },
  {
   "cell_type": "code",
   "execution_count": 50,
   "id": "e6aaf8ca",
   "metadata": {},
   "outputs": [
    {
     "data": {
      "text/plain": [
       "[3, 4, 5, 6, 12, 56]"
      ]
     },
     "execution_count": 50,
     "metadata": {},
     "output_type": "execute_result"
    }
   ],
   "source": [
    "l1"
   ]
  },
  {
   "cell_type": "code",
   "execution_count": 57,
   "id": "211e48ad",
   "metadata": {},
   "outputs": [
    {
     "name": "stdout",
     "output_type": "stream",
     "text": [
      "enter the number:8\n",
      "enter the text:madhu\n",
      "madhu madhumadhu madhumadhumadhu madhumadhumadhumadhu madhumadhumadhumadhumadhu madhumadhumadhumadhumadhumadhu madhumadhumadhumadhumadhumadhumadhu madhumadhumadhumadhumadhumadhumadhumadhu \n"
     ]
    }
   ],
   "source": [
    "a=int(input('enter the number:'))\n",
    "b=input('enter the text:')\n",
    "for i in range(a):\n",
    "    print((i+1)*b, end = \" \")\n",
    "print()\n",
    "    \n"
   ]
  },
  {
   "cell_type": "code",
   "execution_count": 59,
   "id": "0b8f5c63",
   "metadata": {},
   "outputs": [
    {
     "name": "stdout",
     "output_type": "stream",
     "text": [
      "Enter no.of times = 10\n",
      "Enter String = madhu\n",
      "madhu \n",
      "madhu madhu \n",
      "madhu madhu madhu \n",
      "madhu madhu madhu madhu \n",
      "madhu madhu madhu madhu madhu \n",
      "madhu madhu madhu madhu madhu madhu \n",
      "madhu madhu madhu madhu madhu madhu madhu \n",
      "madhu madhu madhu madhu madhu madhu madhu madhu \n",
      "madhu madhu madhu madhu madhu madhu madhu madhu madhu \n",
      "madhu madhu madhu madhu madhu madhu madhu madhu madhu madhu \n"
     ]
    }
   ],
   "source": [
    "n=int(input(\"Enter no.of times = \"))\n",
    "x=str(input(\"Enter String = \"))\n",
    "for i in range(n):\n",
    "    for j in range(i+1):\n",
    "        print(x,end=\" \")\n",
    "    print(end=\"\\n\")"
   ]
  },
  {
   "cell_type": "code",
   "execution_count": 61,
   "id": "3ab3f92f",
   "metadata": {},
   "outputs": [
    {
     "name": "stdout",
     "output_type": "stream",
     "text": [
      "enter the number:6\n",
      "enter the text:madhu\n",
      "madhu \n",
      "madhu madhu \n",
      "madhu madhu madhu \n",
      "madhu madhu madhu madhu \n",
      "madhu madhu madhu madhu madhu \n",
      "madhu madhu madhu madhu madhu madhu \n"
     ]
    }
   ],
   "source": [
    "a=int(input('enter the number:'))\n",
    "b=input('enter the text:')\n",
    "b=b+\" \"\n",
    "for i in range(a):\n",
    "    print((i+1)*b)"
   ]
  },
  {
   "cell_type": "code",
   "execution_count": 1,
   "id": "7d804550",
   "metadata": {},
   "outputs": [
    {
     "name": "stdout",
     "output_type": "stream",
     "text": [
      "Enter the no.: 5\n",
      "Enter the no.: Rajashri\n",
      "Rajashri \n",
      "Rajashri Rajashri \n",
      "Rajashri Rajashri Rajashri \n",
      "Rajashri Rajashri Rajashri Rajashri \n",
      "Rajashri Rajashri Rajashri Rajashri Rajashri \n"
     ]
    }
   ],
   "source": [
    "n = int(input(\"Enter the no.: \"))\n",
    "name = input(\"Enter the no.: \")\n",
    "for i in range(n):\n",
    "    for j in range(i+1):\n",
    "        print(name, end=\" \")\n",
    "    print()\n"
   ]
  },
  {
   "cell_type": "code",
   "execution_count": null,
   "id": "7dc344f5",
   "metadata": {},
   "outputs": [],
   "source": [
    "type(n)"
   ]
  },
  {
   "cell_type": "code",
   "execution_count": 2,
   "id": "992b4c14",
   "metadata": {},
   "outputs": [
    {
     "name": "stdout",
     "output_type": "stream",
     "text": [
      "Enter no.of times = 10\n",
      "Enter String = madhu\n",
      "          madhu \n",
      "         madhu madhu \n",
      "        madhu madhu madhu \n",
      "       madhu madhu madhu madhu \n",
      "      madhu madhu madhu madhu madhu \n",
      "     madhu madhu madhu madhu madhu madhu \n",
      "    madhu madhu madhu madhu madhu madhu madhu \n",
      "   madhu madhu madhu madhu madhu madhu madhu madhu \n",
      "  madhu madhu madhu madhu madhu madhu madhu madhu madhu \n",
      " madhu madhu madhu madhu madhu madhu madhu madhu madhu madhu \n"
     ]
    }
   ],
   "source": [
    "n=int(input(\"Enter no.of times = \"))\n",
    "x=str(input(\"Enter String = \"))\n",
    "b=\" \"\n",
    "for i in range(n):\n",
    "    print(int((n-i))*b,end=\"\")\n",
    "    for j in range(i+1):\n",
    "        print(x,end=\" \")\n",
    "    print(end=\"\\n\")"
   ]
  },
  {
   "cell_type": "code",
   "execution_count": 3,
   "id": "dd390c8e",
   "metadata": {},
   "outputs": [
    {
     "name": "stdout",
     "output_type": "stream",
     "text": [
      "Enter the no. 10\n",
      "Enter symbol or name madhu\n",
      "         madhu \n",
      "        madhu madhu \n",
      "       madhu madhu madhu \n",
      "      madhu madhu madhu madhu \n",
      "     madhu madhu madhu madhu madhu \n",
      "    madhu madhu madhu madhu madhu madhu \n",
      "   madhu madhu madhu madhu madhu madhu madhu \n",
      "  madhu madhu madhu madhu madhu madhu madhu madhu \n",
      " madhu madhu madhu madhu madhu madhu madhu madhu madhu \n",
      "madhu madhu madhu madhu madhu madhu madhu madhu madhu madhu \n"
     ]
    }
   ],
   "source": [
    "n=int(input(\"Enter the no. \"))\n",
    "s=input(\"Enter symbol or name \")\n",
    "for i in range(n):\n",
    "    for j in range(n-1):\n",
    "        print(end=\" \")\n",
    "    for k in range(i+1):\n",
    "        print(s,end=\" \")\n",
    "    n=n-1\n",
    "    print()"
   ]
  },
  {
   "cell_type": "code",
   "execution_count": 6,
   "id": "e2dc4ea8",
   "metadata": {},
   "outputs": [
    {
     "name": "stdout",
     "output_type": "stream",
     "text": [
      "Enter the no.:5\n",
      "Enter the name:Rishika\n",
      "                                Rishika         \n",
      "                        Rishika         Rishika         \n",
      "                Rishika         Rishika         Rishika         \n",
      "        Rishika         Rishika         Rishika         Rishika         \n",
      "Rishika         Rishika         Rishika         Rishika         Rishika         \n"
     ]
    }
   ],
   "source": [
    "n = int(input(\"Enter the no.:\"))\n",
    "name = input(\"Enter the name:\")\n",
    "for i in range(n):\n",
    "    for j in range(n-i-1):\n",
    "        print(\" \"*len(name), end = \" \")\n",
    "    for j in range(i+1):\n",
    "        print(name,\" \"*len(name), end = \" \")\n",
    "    print()"
   ]
  },
  {
   "cell_type": "code",
   "execution_count": 11,
   "id": "33bb8c4d",
   "metadata": {},
   "outputs": [
    {
     "name": "stdout",
     "output_type": "stream",
     "text": [
      "******** "
     ]
    }
   ],
   "source": [
    "name = \"praneeth\"\n",
    "print(\"*\"*len(name), end = \" \")"
   ]
  },
  {
   "cell_type": "code",
   "execution_count": null,
   "id": "255f2be7",
   "metadata": {},
   "outputs": [],
   "source": []
  }
 ],
 "metadata": {
  "kernelspec": {
   "display_name": "Python 3 (ipykernel)",
   "language": "python",
   "name": "python3"
  },
  "language_info": {
   "codemirror_mode": {
    "name": "ipython",
    "version": 3
   },
   "file_extension": ".py",
   "mimetype": "text/x-python",
   "name": "python",
   "nbconvert_exporter": "python",
   "pygments_lexer": "ipython3",
   "version": "3.9.12"
  }
 },
 "nbformat": 4,
 "nbformat_minor": 5
}
