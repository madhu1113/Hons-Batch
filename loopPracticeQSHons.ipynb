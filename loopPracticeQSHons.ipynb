{
 "cells": [
  {
   "cell_type": "raw",
   "id": "20cf56df",
   "metadata": {},
   "source": [
    "i = 34534654646435\n",
    "3\n",
    "4\n",
    "5\n",
    "3\n",
    "4\n",
    "6\n",
    "..."
   ]
  },
  {
   "cell_type": "code",
   "execution_count": 1,
   "id": "d05faed0",
   "metadata": {},
   "outputs": [],
   "source": [
    "i = 34534654646435\n"
   ]
  },
  {
   "cell_type": "code",
   "execution_count": 2,
   "id": "fe951001",
   "metadata": {},
   "outputs": [
    {
     "data": {
      "text/plain": [
       "34534654646435"
      ]
     },
     "execution_count": 2,
     "metadata": {},
     "output_type": "execute_result"
    }
   ],
   "source": [
    "i"
   ]
  },
  {
   "cell_type": "code",
   "execution_count": 10,
   "id": "365f49af",
   "metadata": {},
   "outputs": [
    {
     "name": "stdout",
     "output_type": "stream",
     "text": [
      "3 <class 'int'>\n",
      "4 <class 'int'>\n",
      "5 <class 'int'>\n",
      "3 <class 'int'>\n",
      "4 <class 'int'>\n",
      "6 <class 'int'>\n",
      "5 <class 'int'>\n",
      "4 <class 'int'>\n",
      "6 <class 'int'>\n",
      "4 <class 'int'>\n",
      "6 <class 'int'>\n",
      "4 <class 'int'>\n",
      "3 <class 'int'>\n",
      "5 <class 'int'>\n"
     ]
    }
   ],
   "source": [
    "l=34534654646435\n",
    "for i in str(l):\n",
    "    print(int(i), type(int(i)))"
   ]
  },
  {
   "cell_type": "code",
   "execution_count": 12,
   "id": "cc176d22",
   "metadata": {},
   "outputs": [],
   "source": [
    "i=34534654646435"
   ]
  },
  {
   "cell_type": "code",
   "execution_count": 18,
   "id": "b0274cd2",
   "metadata": {},
   "outputs": [
    {
     "name": "stdout",
     "output_type": "stream",
     "text": [
      "3 <class 'int'>\n",
      "4 <class 'int'>\n",
      "5 <class 'int'>\n",
      "3 <class 'int'>\n",
      "4 <class 'int'>\n",
      "6 <class 'int'>\n",
      "5 <class 'int'>\n",
      "4 <class 'int'>\n",
      "6 <class 'int'>\n",
      "4 <class 'int'>\n",
      "6 <class 'int'>\n",
      "4 <class 'int'>\n",
      "3 <class 'int'>\n",
      "5 <class 'int'>\n"
     ]
    }
   ],
   "source": [
    "for j in str(i):\n",
    "    print(int(j),type(int(j)))"
   ]
  },
  {
   "cell_type": "code",
   "execution_count": 5,
   "id": "719eb770",
   "metadata": {},
   "outputs": [
    {
     "ename": "TypeError",
     "evalue": "'int' object is not subscriptable",
     "output_type": "error",
     "traceback": [
      "\u001b[0;31m---------------------------------------------------------------------------\u001b[0m",
      "\u001b[0;31mTypeError\u001b[0m                                 Traceback (most recent call last)",
      "Input \u001b[0;32mIn [5]\u001b[0m, in \u001b[0;36m<cell line: 1>\u001b[0;34m()\u001b[0m\n\u001b[0;32m----> 1\u001b[0m \u001b[43mi\u001b[49m\u001b[43m[\u001b[49m\u001b[38;5;241;43m0\u001b[39;49m\u001b[43m]\u001b[49m\n",
      "\u001b[0;31mTypeError\u001b[0m: 'int' object is not subscriptable"
     ]
    }
   ],
   "source": [
    "i[0]"
   ]
  },
  {
   "cell_type": "raw",
   "id": "5ff7be1c",
   "metadata": {},
   "source": [
    "s = \"aaabbbabbccbccdeddeeeffaf\"\n",
    "a: 3\n",
    "b: 5\n",
    "c: 4"
   ]
  },
  {
   "cell_type": "code",
   "execution_count": 20,
   "id": "2a1281c0",
   "metadata": {},
   "outputs": [],
   "source": [
    "s = \"aaabbbabbccbccdeddeeeffaf\""
   ]
  },
  {
   "cell_type": "code",
   "execution_count": 24,
   "id": "d42352fa",
   "metadata": {},
   "outputs": [
    {
     "data": {
      "text/plain": [
       "{'a', 'b', 'c', 'd', 'e', 'f'}"
      ]
     },
     "execution_count": 24,
     "metadata": {},
     "output_type": "execute_result"
    }
   ],
   "source": [
    "set(s)"
   ]
  },
  {
   "cell_type": "code",
   "execution_count": 25,
   "id": "cf4dc9c5",
   "metadata": {},
   "outputs": [
    {
     "name": "stdout",
     "output_type": "stream",
     "text": [
      "d : 3\n",
      "c : 4\n",
      "f : 3\n",
      "a : 5\n",
      "b : 6\n",
      "e : 4\n"
     ]
    }
   ],
   "source": [
    "\n",
    "for i in set(s):\n",
    "    print(i,\":\",s.count(i))\n",
    "        "
   ]
  },
  {
   "cell_type": "code",
   "execution_count": 26,
   "id": "a9ec9abb",
   "metadata": {},
   "outputs": [
    {
     "name": "stdout",
     "output_type": "stream",
     "text": [
      "1\n",
      "2\n",
      "3\n",
      "4\n",
      "5\n",
      "6\n"
     ]
    }
   ],
   "source": [
    "s='Manjunadha Manjunadha'\n",
    "count=0\n",
    "for i in s:\n",
    "    if i=='a':\n",
    "        count=count+1\n",
    "        print(count)"
   ]
  },
  {
   "cell_type": "code",
   "execution_count": 27,
   "id": "d0a0fe4f",
   "metadata": {},
   "outputs": [],
   "source": [
    "a = 10\n",
    "b= 20\n",
    "c = 30"
   ]
  },
  {
   "cell_type": "code",
   "execution_count": 28,
   "id": "ba85ddb0",
   "metadata": {},
   "outputs": [
    {
     "data": {
      "text/plain": [
       "10"
      ]
     },
     "execution_count": 28,
     "metadata": {},
     "output_type": "execute_result"
    }
   ],
   "source": [
    "a"
   ]
  },
  {
   "cell_type": "code",
   "execution_count": 29,
   "id": "cb330108",
   "metadata": {},
   "outputs": [
    {
     "data": {
      "text/plain": [
       "20"
      ]
     },
     "execution_count": 29,
     "metadata": {},
     "output_type": "execute_result"
    }
   ],
   "source": [
    "b"
   ]
  },
  {
   "cell_type": "code",
   "execution_count": 30,
   "id": "f3e9bbbe",
   "metadata": {},
   "outputs": [
    {
     "data": {
      "text/plain": [
       "30"
      ]
     },
     "execution_count": 30,
     "metadata": {},
     "output_type": "execute_result"
    }
   ],
   "source": [
    "c"
   ]
  },
  {
   "cell_type": "code",
   "execution_count": 37,
   "id": "c89dbb11",
   "metadata": {},
   "outputs": [],
   "source": [
    "(i,j,k) = (10,20,30)"
   ]
  },
  {
   "cell_type": "code",
   "execution_count": 34,
   "id": "80d8bd8b",
   "metadata": {},
   "outputs": [
    {
     "data": {
      "text/plain": [
       "10"
      ]
     },
     "execution_count": 34,
     "metadata": {},
     "output_type": "execute_result"
    }
   ],
   "source": [
    "i"
   ]
  },
  {
   "cell_type": "raw",
   "id": "cef2ffa0",
   "metadata": {},
   "source": [
    "d = {\"name\":\"Manjunath\", \"class\":\"2ndYear\",\"section\":1}\n",
    "(name, Manjunath)\n",
    "(class, 2nd year)\n",
    "(section 1)"
   ]
  },
  {
   "cell_type": "code",
   "execution_count": 38,
   "id": "a2c45bb8",
   "metadata": {},
   "outputs": [],
   "source": [
    "d = {\"name\":\"Manjunath\", \"class\":\"2ndYear\",\"section\":1}"
   ]
  },
  {
   "cell_type": "code",
   "execution_count": 39,
   "id": "c5c454db",
   "metadata": {},
   "outputs": [
    {
     "data": {
      "text/plain": [
       "dict_items([('name', 'Manjunath'), ('class', '2ndYear'), ('section', 1)])"
      ]
     },
     "execution_count": 39,
     "metadata": {},
     "output_type": "execute_result"
    }
   ],
   "source": [
    "d.items()"
   ]
  },
  {
   "cell_type": "code",
   "execution_count": 40,
   "id": "892ad155",
   "metadata": {},
   "outputs": [
    {
     "name": "stdout",
     "output_type": "stream",
     "text": [
      "('name', 'Manjunath')\n",
      "('class', '2ndYear')\n",
      "('section', 1)\n"
     ]
    }
   ],
   "source": [
    "for i in d.items():\n",
    "    print(i)"
   ]
  },
  {
   "cell_type": "code",
   "execution_count": 1,
   "id": "427741ff",
   "metadata": {},
   "outputs": [],
   "source": [
    "t=(\"Madhu\",\"priya\",[1,3,5,7,4],(3,5,88,4),{3:3,3:\"kjshdf\",\"key1\":\"Madhu\",\"key2\":\"priya\"})"
   ]
  },
  {
   "cell_type": "code",
   "execution_count": 6,
   "id": "9bf8bedc",
   "metadata": {},
   "outputs": [
    {
     "name": "stdout",
     "output_type": "stream",
     "text": [
      "3\n",
      "3\n",
      "3\n",
      "kjshdf\n"
     ]
    }
   ],
   "source": [
    "for i in t:\n",
    "    if type(i) == list or type(i) == tuple:\n",
    "        for j in i:\n",
    "            if j == 3:\n",
    "                print(j)\n",
    "    if type(i) == dict :\n",
    "        for k,v in i.items():\n",
    "            if k == 3 or v == 3:\n",
    "                print(k)\n",
    "                print(v)\n",
    "                \n",
    "    \n",
    "    "
   ]
  },
  {
   "cell_type": "code",
   "execution_count": 5,
   "id": "c7b0126d",
   "metadata": {},
   "outputs": [
    {
     "data": {
      "text/plain": [
       "3"
      ]
     },
     "execution_count": 5,
     "metadata": {},
     "output_type": "execute_result"
    }
   ],
   "source": [
    "t[2][1]"
   ]
  },
  {
   "cell_type": "code",
   "execution_count": 4,
   "id": "35481f5c",
   "metadata": {},
   "outputs": [
    {
     "name": "stdout",
     "output_type": "stream",
     "text": [
      "dict_items([(3, 'kjshdf'), ('key1', 'Madhu'), ('key2', 'priya')])\n"
     ]
    }
   ],
   "source": [
    "for i in t:\n",
    "    if type(i) == dict :\n",
    "        print(i.items())"
   ]
  },
  {
   "cell_type": "raw",
   "id": "4e0a057b",
   "metadata": {},
   "source": [
    "              *   \n",
    "            *   *   \n",
    "          *   *   *   \n",
    "        *   *   *   *   \n",
    "      *   *   *   *   *   \n",
    "    *   *   *   *   *   *   \n",
    "  *   *   *   *   *   *   *   \n",
    "*   *   *   *   *   *   *   *   \n",
    "  *   *   *   *   *   *   *   \n",
    "    *   *   *   *   *   *   \n",
    "      *   *   *   *   *   \n",
    "        *   *   *   *   \n",
    "          *   *   *   \n",
    "            *   *   \n",
    "              *   "
   ]
  },
  {
   "cell_type": "raw",
   "id": "b597b4e4",
   "metadata": {},
   "source": [
    "enter the rows = 3\n",
    "enter the string = python\n",
    "                                python\n",
    "                         python        python\n",
    "                  python       python        python\n",
    "                        python       python\n",
    "                              python\n",
    "    "
   ]
  },
  {
   "cell_type": "code",
   "execution_count": 2,
   "id": "6bf5600e",
   "metadata": {},
   "outputs": [
    {
     "name": "stdout",
     "output_type": "stream",
     "text": [
      "Enter the no. of rows: 6\n",
      "Enter the name: python\n",
      "                                   python        \n",
      "                            python        python        \n",
      "                     python        python        python        \n",
      "              python        python        python        python        \n",
      "       python        python        python        python        python        \n",
      "python        python        python        python        python        python        \n",
      "       python        python        python        python        python        \n",
      "              python        python        python        python        \n",
      "                     python        python        python        \n",
      "                            python        python        \n",
      "                                   python        \n"
     ]
    }
   ],
   "source": [
    "n = int(input(\"Enter the no. of rows: \"))\n",
    "name = input(\"Enter the name: \")\n",
    "for i in range(n):\n",
    "    for j in range(n-i-1):\n",
    "        print(\" \"*len(name), end = \" \")\n",
    "    for j in range(i+1):\n",
    "        print(name,\" \"*len(name), end = \" \")\n",
    "    print()\n",
    "for i in range(n-1):\n",
    "    for j in range(i+1):\n",
    "        print(\" \"*len(name), end = \" \")\n",
    "    for j in range(n-i-1):\n",
    "        print(name,\" \"*len(name), end = \" \")\n",
    "    print()"
   ]
  },
  {
   "cell_type": "raw",
   "id": "30405808",
   "metadata": {},
   "source": [
    "Enter the No: 5\n",
    "Enter your name: python\n",
    "                            python \n",
    "                     python python python \n",
    "              python python python python python \n",
    "       python python python python python python python \n",
    "python python python python python python python python python \n",
    "       python python python python python python python \n",
    "              python python python python python \n",
    "                     python python python \n",
    "                            python "
   ]
  },
  {
   "cell_type": "code",
   "execution_count": 15,
   "id": "fc735cdd",
   "metadata": {},
   "outputs": [
    {
     "name": "stdout",
     "output_type": "stream",
     "text": [
      "Enter diamond's height: 5\n",
      "enter your thingmadhu\n",
      "           madhu \n",
      "         madhu madhu madhu \n",
      "       madhu madhu madhu madhu madhu \n",
      "     madhu madhu madhu madhu madhu madhu madhu \n",
      "   madhu madhu madhu madhu madhu madhu madhu madhu madhu \n",
      "     madhu madhu madhu madhu madhu madhu madhu \n",
      "       madhu madhu madhu madhu madhu \n",
      "         madhu madhu madhu \n",
      "           madhu \n"
     ]
    }
   ],
   "source": [
    "n = int(input(\"Enter diamond's height: \"))\n",
    "d=input(\"enter your thing\")+' '\n",
    "for x in range(n):\n",
    "    print(\"  \" * (n - x), d * (2*x + 1))\n",
    "for x in range(n - 2, -1, -1):\n",
    "    print(\"  \" * (n - x), d * (2*x + 1))"
   ]
  },
  {
   "cell_type": "code",
   "execution_count": null,
   "id": "5671fd10",
   "metadata": {},
   "outputs": [],
   "source": []
  }
 ],
 "metadata": {
  "kernelspec": {
   "display_name": "Python 3 (ipykernel)",
   "language": "python",
   "name": "python3"
  },
  "language_info": {
   "codemirror_mode": {
    "name": "ipython",
    "version": 3
   },
   "file_extension": ".py",
   "mimetype": "text/x-python",
   "name": "python",
   "nbconvert_exporter": "python",
   "pygments_lexer": "ipython3",
   "version": "3.9.12"
  }
 },
 "nbformat": 4,
 "nbformat_minor": 5
}
